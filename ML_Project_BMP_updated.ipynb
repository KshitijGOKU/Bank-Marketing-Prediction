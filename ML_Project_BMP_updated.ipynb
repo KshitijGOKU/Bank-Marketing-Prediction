{
  "nbformat": 4,
  "nbformat_minor": 0,
  "metadata": {
    "colab": {
      "name": "ML-Project-BMP_updated.ipynb",
      "provenance": []
    },
    "kernelspec": {
      "name": "python3",
      "display_name": "Python 3"
    }
  },
  "cells": [
    {
      "cell_type": "markdown",
      "metadata": {
        "id": "5SxWhMplXppi",
        "colab_type": "text"
      },
      "source": [
        "# **ML Project - Bank Marketing Prediction**\n",
        "\n",
        "## Tasks to perform\n",
        "## 1 . Read in the file and get basic information about the data, including numerical summaries."
      ]
    },
    {
      "cell_type": "code",
      "metadata": {
        "id": "Mg5nMtEiLBEW",
        "colab_type": "code",
        "colab": {}
      },
      "source": [
        "import pandas as pd"
      ],
      "execution_count": 197,
      "outputs": []
    },
    {
      "cell_type": "code",
      "metadata": {
        "id": "i-gXny7LZBCG",
        "colab_type": "code",
        "colab": {
          "base_uri": "https://localhost:8080/",
          "height": 224
        },
        "outputId": "e80a8650-5486-44b1-eddb-b22b88a1e352"
      },
      "source": [
        "df = pd.read_csv('bank-marketing.csv')\n",
        "df.head()"
      ],
      "execution_count": 198,
      "outputs": [
        {
          "output_type": "execute_result",
          "data": {
            "text/html": [
              "<div>\n",
              "<style scoped>\n",
              "    .dataframe tbody tr th:only-of-type {\n",
              "        vertical-align: middle;\n",
              "    }\n",
              "\n",
              "    .dataframe tbody tr th {\n",
              "        vertical-align: top;\n",
              "    }\n",
              "\n",
              "    .dataframe thead th {\n",
              "        text-align: right;\n",
              "    }\n",
              "</style>\n",
              "<table border=\"1\" class=\"dataframe\">\n",
              "  <thead>\n",
              "    <tr style=\"text-align: right;\">\n",
              "      <th></th>\n",
              "      <th>age</th>\n",
              "      <th>job</th>\n",
              "      <th>salary</th>\n",
              "      <th>marital</th>\n",
              "      <th>education</th>\n",
              "      <th>targeted</th>\n",
              "      <th>default</th>\n",
              "      <th>balance</th>\n",
              "      <th>housing</th>\n",
              "      <th>loan</th>\n",
              "      <th>contact</th>\n",
              "      <th>day</th>\n",
              "      <th>month</th>\n",
              "      <th>duration</th>\n",
              "      <th>campaign</th>\n",
              "      <th>pdays</th>\n",
              "      <th>previous</th>\n",
              "      <th>poutcome</th>\n",
              "      <th>response</th>\n",
              "    </tr>\n",
              "  </thead>\n",
              "  <tbody>\n",
              "    <tr>\n",
              "      <th>0</th>\n",
              "      <td>58</td>\n",
              "      <td>management</td>\n",
              "      <td>100000</td>\n",
              "      <td>married</td>\n",
              "      <td>tertiary</td>\n",
              "      <td>yes</td>\n",
              "      <td>no</td>\n",
              "      <td>2143</td>\n",
              "      <td>yes</td>\n",
              "      <td>no</td>\n",
              "      <td>unknown</td>\n",
              "      <td>5</td>\n",
              "      <td>may</td>\n",
              "      <td>261</td>\n",
              "      <td>1</td>\n",
              "      <td>-1</td>\n",
              "      <td>0</td>\n",
              "      <td>unknown</td>\n",
              "      <td>no</td>\n",
              "    </tr>\n",
              "    <tr>\n",
              "      <th>1</th>\n",
              "      <td>44</td>\n",
              "      <td>technician</td>\n",
              "      <td>60000</td>\n",
              "      <td>single</td>\n",
              "      <td>secondary</td>\n",
              "      <td>yes</td>\n",
              "      <td>no</td>\n",
              "      <td>29</td>\n",
              "      <td>yes</td>\n",
              "      <td>no</td>\n",
              "      <td>unknown</td>\n",
              "      <td>5</td>\n",
              "      <td>may</td>\n",
              "      <td>151</td>\n",
              "      <td>1</td>\n",
              "      <td>-1</td>\n",
              "      <td>0</td>\n",
              "      <td>unknown</td>\n",
              "      <td>no</td>\n",
              "    </tr>\n",
              "    <tr>\n",
              "      <th>2</th>\n",
              "      <td>33</td>\n",
              "      <td>entrepreneur</td>\n",
              "      <td>120000</td>\n",
              "      <td>married</td>\n",
              "      <td>secondary</td>\n",
              "      <td>yes</td>\n",
              "      <td>no</td>\n",
              "      <td>2</td>\n",
              "      <td>yes</td>\n",
              "      <td>yes</td>\n",
              "      <td>unknown</td>\n",
              "      <td>5</td>\n",
              "      <td>may</td>\n",
              "      <td>76</td>\n",
              "      <td>1</td>\n",
              "      <td>-1</td>\n",
              "      <td>0</td>\n",
              "      <td>unknown</td>\n",
              "      <td>no</td>\n",
              "    </tr>\n",
              "    <tr>\n",
              "      <th>3</th>\n",
              "      <td>47</td>\n",
              "      <td>blue-collar</td>\n",
              "      <td>20000</td>\n",
              "      <td>married</td>\n",
              "      <td>unknown</td>\n",
              "      <td>no</td>\n",
              "      <td>no</td>\n",
              "      <td>1506</td>\n",
              "      <td>yes</td>\n",
              "      <td>no</td>\n",
              "      <td>unknown</td>\n",
              "      <td>5</td>\n",
              "      <td>may</td>\n",
              "      <td>92</td>\n",
              "      <td>1</td>\n",
              "      <td>-1</td>\n",
              "      <td>0</td>\n",
              "      <td>unknown</td>\n",
              "      <td>no</td>\n",
              "    </tr>\n",
              "    <tr>\n",
              "      <th>4</th>\n",
              "      <td>33</td>\n",
              "      <td>unknown</td>\n",
              "      <td>0</td>\n",
              "      <td>single</td>\n",
              "      <td>unknown</td>\n",
              "      <td>no</td>\n",
              "      <td>no</td>\n",
              "      <td>1</td>\n",
              "      <td>no</td>\n",
              "      <td>no</td>\n",
              "      <td>unknown</td>\n",
              "      <td>5</td>\n",
              "      <td>may</td>\n",
              "      <td>198</td>\n",
              "      <td>1</td>\n",
              "      <td>-1</td>\n",
              "      <td>0</td>\n",
              "      <td>unknown</td>\n",
              "      <td>no</td>\n",
              "    </tr>\n",
              "  </tbody>\n",
              "</table>\n",
              "</div>"
            ],
            "text/plain": [
              "   age           job  salary  marital  ... pdays previous poutcome  response\n",
              "0   58    management  100000  married  ...    -1        0  unknown        no\n",
              "1   44    technician   60000   single  ...    -1        0  unknown        no\n",
              "2   33  entrepreneur  120000  married  ...    -1        0  unknown        no\n",
              "3   47   blue-collar   20000  married  ...    -1        0  unknown        no\n",
              "4   33       unknown       0   single  ...    -1        0  unknown        no\n",
              "\n",
              "[5 rows x 19 columns]"
            ]
          },
          "metadata": {
            "tags": []
          },
          "execution_count": 198
        }
      ]
    },
    {
      "cell_type": "code",
      "metadata": {
        "id": "y3JmeDfUZJyy",
        "colab_type": "code",
        "colab": {
          "base_uri": "https://localhost:8080/",
          "height": 34
        },
        "outputId": "25cb2581-2c0c-47fc-f1c9-22e2623dd5db"
      },
      "source": [
        "df.shape"
      ],
      "execution_count": 199,
      "outputs": [
        {
          "output_type": "execute_result",
          "data": {
            "text/plain": [
              "(45211, 19)"
            ]
          },
          "metadata": {
            "tags": []
          },
          "execution_count": 199
        }
      ]
    },
    {
      "cell_type": "markdown",
      "metadata": {
        "id": "QylyhZDnZU9e",
        "colab_type": "text"
      },
      "source": [
        "So, we have 45211 records with 19 collumns"
      ]
    },
    {
      "cell_type": "code",
      "metadata": {
        "id": "4ZmXiWPCZRpQ",
        "colab_type": "code",
        "colab": {
          "base_uri": "https://localhost:8080/",
          "height": 85
        },
        "outputId": "648f2239-e8a3-4067-d96b-e10eef14d099"
      },
      "source": [
        "df.columns"
      ],
      "execution_count": 200,
      "outputs": [
        {
          "output_type": "execute_result",
          "data": {
            "text/plain": [
              "Index(['age', 'job', 'salary', 'marital', 'education', 'targeted', 'default',\n",
              "       'balance', 'housing', 'loan', 'contact', 'day', 'month', 'duration',\n",
              "       'campaign', 'pdays', 'previous', 'poutcome', 'response'],\n",
              "      dtype='object')"
            ]
          },
          "metadata": {
            "tags": []
          },
          "execution_count": 200
        }
      ]
    },
    {
      "cell_type": "markdown",
      "metadata": {
        "id": "FCSuafOHZlex",
        "colab_type": "text"
      },
      "source": [
        "response column is our target variable and others are feature columns"
      ]
    },
    {
      "cell_type": "code",
      "metadata": {
        "id": "WxZw8ezLZdVC",
        "colab_type": "code",
        "colab": {
          "base_uri": "https://localhost:8080/",
          "height": 459
        },
        "outputId": "dfb58386-97b8-4cca-85ca-9cad2d89eef5"
      },
      "source": [
        "df.info()"
      ],
      "execution_count": 201,
      "outputs": [
        {
          "output_type": "stream",
          "text": [
            "<class 'pandas.core.frame.DataFrame'>\n",
            "RangeIndex: 45211 entries, 0 to 45210\n",
            "Data columns (total 19 columns):\n",
            " #   Column     Non-Null Count  Dtype \n",
            "---  ------     --------------  ----- \n",
            " 0   age        45211 non-null  int64 \n",
            " 1   job        45211 non-null  object\n",
            " 2   salary     45211 non-null  int64 \n",
            " 3   marital    45211 non-null  object\n",
            " 4   education  45211 non-null  object\n",
            " 5   targeted   45211 non-null  object\n",
            " 6   default    45211 non-null  object\n",
            " 7   balance    45211 non-null  int64 \n",
            " 8   housing    45211 non-null  object\n",
            " 9   loan       45211 non-null  object\n",
            " 10  contact    45211 non-null  object\n",
            " 11  day        45211 non-null  int64 \n",
            " 12  month      45211 non-null  object\n",
            " 13  duration   45211 non-null  int64 \n",
            " 14  campaign   45211 non-null  int64 \n",
            " 15  pdays      45211 non-null  int64 \n",
            " 16  previous   45211 non-null  int64 \n",
            " 17  poutcome   45211 non-null  object\n",
            " 18  response   45211 non-null  object\n",
            "dtypes: int64(8), object(11)\n",
            "memory usage: 6.6+ MB\n"
          ],
          "name": "stdout"
        }
      ]
    },
    {
      "cell_type": "markdown",
      "metadata": {
        "id": "vtNxbe_MaKZ2",
        "colab_type": "text"
      },
      "source": [
        "So, there are total 19 columns outta which 8 are numerical and 11 are categorical.\n",
        "and no null value in any column, so that's a good news!"
      ]
    },
    {
      "cell_type": "code",
      "metadata": {
        "id": "m70iyiOEZyvt",
        "colab_type": "code",
        "colab": {
          "base_uri": "https://localhost:8080/",
          "height": 297
        },
        "outputId": "6b3f37c8-0aa9-40fa-e95d-0d8006814cee"
      },
      "source": [
        "# numerical summary\n",
        "df.describe()"
      ],
      "execution_count": 202,
      "outputs": [
        {
          "output_type": "execute_result",
          "data": {
            "text/html": [
              "<div>\n",
              "<style scoped>\n",
              "    .dataframe tbody tr th:only-of-type {\n",
              "        vertical-align: middle;\n",
              "    }\n",
              "\n",
              "    .dataframe tbody tr th {\n",
              "        vertical-align: top;\n",
              "    }\n",
              "\n",
              "    .dataframe thead th {\n",
              "        text-align: right;\n",
              "    }\n",
              "</style>\n",
              "<table border=\"1\" class=\"dataframe\">\n",
              "  <thead>\n",
              "    <tr style=\"text-align: right;\">\n",
              "      <th></th>\n",
              "      <th>age</th>\n",
              "      <th>salary</th>\n",
              "      <th>balance</th>\n",
              "      <th>day</th>\n",
              "      <th>duration</th>\n",
              "      <th>campaign</th>\n",
              "      <th>pdays</th>\n",
              "      <th>previous</th>\n",
              "    </tr>\n",
              "  </thead>\n",
              "  <tbody>\n",
              "    <tr>\n",
              "      <th>count</th>\n",
              "      <td>45211.000000</td>\n",
              "      <td>45211.000000</td>\n",
              "      <td>45211.000000</td>\n",
              "      <td>45211.000000</td>\n",
              "      <td>45211.000000</td>\n",
              "      <td>45211.000000</td>\n",
              "      <td>45211.000000</td>\n",
              "      <td>45211.000000</td>\n",
              "    </tr>\n",
              "    <tr>\n",
              "      <th>mean</th>\n",
              "      <td>40.936210</td>\n",
              "      <td>57006.171065</td>\n",
              "      <td>1362.272058</td>\n",
              "      <td>15.806419</td>\n",
              "      <td>258.163080</td>\n",
              "      <td>2.763841</td>\n",
              "      <td>40.197828</td>\n",
              "      <td>0.580323</td>\n",
              "    </tr>\n",
              "    <tr>\n",
              "      <th>std</th>\n",
              "      <td>10.618762</td>\n",
              "      <td>32085.718415</td>\n",
              "      <td>3044.765829</td>\n",
              "      <td>8.322476</td>\n",
              "      <td>257.527812</td>\n",
              "      <td>3.098021</td>\n",
              "      <td>100.128746</td>\n",
              "      <td>2.303441</td>\n",
              "    </tr>\n",
              "    <tr>\n",
              "      <th>min</th>\n",
              "      <td>18.000000</td>\n",
              "      <td>0.000000</td>\n",
              "      <td>-8019.000000</td>\n",
              "      <td>1.000000</td>\n",
              "      <td>0.000000</td>\n",
              "      <td>1.000000</td>\n",
              "      <td>-1.000000</td>\n",
              "      <td>0.000000</td>\n",
              "    </tr>\n",
              "    <tr>\n",
              "      <th>25%</th>\n",
              "      <td>33.000000</td>\n",
              "      <td>20000.000000</td>\n",
              "      <td>72.000000</td>\n",
              "      <td>8.000000</td>\n",
              "      <td>103.000000</td>\n",
              "      <td>1.000000</td>\n",
              "      <td>-1.000000</td>\n",
              "      <td>0.000000</td>\n",
              "    </tr>\n",
              "    <tr>\n",
              "      <th>50%</th>\n",
              "      <td>39.000000</td>\n",
              "      <td>60000.000000</td>\n",
              "      <td>448.000000</td>\n",
              "      <td>16.000000</td>\n",
              "      <td>180.000000</td>\n",
              "      <td>2.000000</td>\n",
              "      <td>-1.000000</td>\n",
              "      <td>0.000000</td>\n",
              "    </tr>\n",
              "    <tr>\n",
              "      <th>75%</th>\n",
              "      <td>48.000000</td>\n",
              "      <td>70000.000000</td>\n",
              "      <td>1428.000000</td>\n",
              "      <td>21.000000</td>\n",
              "      <td>319.000000</td>\n",
              "      <td>3.000000</td>\n",
              "      <td>-1.000000</td>\n",
              "      <td>0.000000</td>\n",
              "    </tr>\n",
              "    <tr>\n",
              "      <th>max</th>\n",
              "      <td>95.000000</td>\n",
              "      <td>120000.000000</td>\n",
              "      <td>102127.000000</td>\n",
              "      <td>31.000000</td>\n",
              "      <td>4918.000000</td>\n",
              "      <td>63.000000</td>\n",
              "      <td>871.000000</td>\n",
              "      <td>275.000000</td>\n",
              "    </tr>\n",
              "  </tbody>\n",
              "</table>\n",
              "</div>"
            ],
            "text/plain": [
              "                age         salary  ...         pdays      previous\n",
              "count  45211.000000   45211.000000  ...  45211.000000  45211.000000\n",
              "mean      40.936210   57006.171065  ...     40.197828      0.580323\n",
              "std       10.618762   32085.718415  ...    100.128746      2.303441\n",
              "min       18.000000       0.000000  ...     -1.000000      0.000000\n",
              "25%       33.000000   20000.000000  ...     -1.000000      0.000000\n",
              "50%       39.000000   60000.000000  ...     -1.000000      0.000000\n",
              "75%       48.000000   70000.000000  ...     -1.000000      0.000000\n",
              "max       95.000000  120000.000000  ...    871.000000    275.000000\n",
              "\n",
              "[8 rows x 8 columns]"
            ]
          },
          "metadata": {
            "tags": []
          },
          "execution_count": 202
        }
      ]
    },
    {
      "cell_type": "markdown",
      "metadata": {
        "id": "4ANLJEL6fnZK",
        "colab_type": "text"
      },
      "source": [
        "## 2 . Describe the pdays column, make note of the mean, median and minimum values. Anything fishy in the values?"
      ]
    },
    {
      "cell_type": "code",
      "metadata": {
        "id": "g2WXLRc5a8UX",
        "colab_type": "code",
        "colab": {
          "base_uri": "https://localhost:8080/",
          "height": 170
        },
        "outputId": "c58d7d01-a40e-4814-8bf7-5533aad67c9d"
      },
      "source": [
        "df.pdays.describe()"
      ],
      "execution_count": 203,
      "outputs": [
        {
          "output_type": "execute_result",
          "data": {
            "text/plain": [
              "count    45211.000000\n",
              "mean        40.197828\n",
              "std        100.128746\n",
              "min         -1.000000\n",
              "25%         -1.000000\n",
              "50%         -1.000000\n",
              "75%         -1.000000\n",
              "max        871.000000\n",
              "Name: pdays, dtype: float64"
            ]
          },
          "metadata": {
            "tags": []
          },
          "execution_count": 203
        }
      ]
    },
    {
      "cell_type": "markdown",
      "metadata": {
        "id": "BRzRVgr2g9Y3",
        "colab_type": "text"
      },
      "source": [
        "yes, there is definitely something fishy going on here, we can see that min value is -1 and 75% of the values are -1. "
      ]
    },
    {
      "cell_type": "code",
      "metadata": {
        "id": "qjs-g6SVft0d",
        "colab_type": "code",
        "colab": {
          "base_uri": "https://localhost:8080/",
          "height": 221
        },
        "outputId": "55b10c51-f0b8-4f76-8916-e47f3f9df14f"
      },
      "source": [
        "df.pdays.value_counts()"
      ],
      "execution_count": 204,
      "outputs": [
        {
          "output_type": "execute_result",
          "data": {
            "text/plain": [
              "-1      36954\n",
              " 182      167\n",
              " 92       147\n",
              " 183      126\n",
              " 91       126\n",
              "        ...  \n",
              " 749        1\n",
              " 717        1\n",
              " 589        1\n",
              " 493        1\n",
              " 32         1\n",
              "Name: pdays, Length: 559, dtype: int64"
            ]
          },
          "metadata": {
            "tags": []
          },
          "execution_count": 204
        }
      ]
    },
    {
      "cell_type": "markdown",
      "metadata": {
        "id": "mx-NYQh9hOg9",
        "colab_type": "text"
      },
      "source": [
        "As we can see there are 36,954 records having pvalue -1. this is hurting the overall mean."
      ]
    },
    {
      "cell_type": "markdown",
      "metadata": {
        "id": "zH0qF-Cgh4A2",
        "colab_type": "text"
      },
      "source": [
        "So, i did a quick search on UCI machine Learning repo site to check what does the pdays actually means:  \n",
        "**pdays:** number of days that passed by after the client was last contacted from a previous campaign (numeric; 999 means client was not previously contacted)  \n",
        "here 999 is replace by -1"
      ]
    },
    {
      "cell_type": "markdown",
      "metadata": {
        "id": "bIIV2rtgjIg8",
        "colab_type": "text"
      },
      "source": [
        "So, if pdays = -1, it indicates that this person was not previosly contacted so, we will drop these records because we want to study on people who was involved in the campaign"
      ]
    },
    {
      "cell_type": "code",
      "metadata": {
        "id": "TrDEEEtqf9-P",
        "colab_type": "code",
        "colab": {
          "base_uri": "https://localhost:8080/",
          "height": 224
        },
        "outputId": "a12128c7-5dbf-4f9c-d85c-1572776dc9cc"
      },
      "source": [
        "df = df.drop(df[df.pdays==-1].index)\n",
        "df.head()"
      ],
      "execution_count": 205,
      "outputs": [
        {
          "output_type": "execute_result",
          "data": {
            "text/html": [
              "<div>\n",
              "<style scoped>\n",
              "    .dataframe tbody tr th:only-of-type {\n",
              "        vertical-align: middle;\n",
              "    }\n",
              "\n",
              "    .dataframe tbody tr th {\n",
              "        vertical-align: top;\n",
              "    }\n",
              "\n",
              "    .dataframe thead th {\n",
              "        text-align: right;\n",
              "    }\n",
              "</style>\n",
              "<table border=\"1\" class=\"dataframe\">\n",
              "  <thead>\n",
              "    <tr style=\"text-align: right;\">\n",
              "      <th></th>\n",
              "      <th>age</th>\n",
              "      <th>job</th>\n",
              "      <th>salary</th>\n",
              "      <th>marital</th>\n",
              "      <th>education</th>\n",
              "      <th>targeted</th>\n",
              "      <th>default</th>\n",
              "      <th>balance</th>\n",
              "      <th>housing</th>\n",
              "      <th>loan</th>\n",
              "      <th>contact</th>\n",
              "      <th>day</th>\n",
              "      <th>month</th>\n",
              "      <th>duration</th>\n",
              "      <th>campaign</th>\n",
              "      <th>pdays</th>\n",
              "      <th>previous</th>\n",
              "      <th>poutcome</th>\n",
              "      <th>response</th>\n",
              "    </tr>\n",
              "  </thead>\n",
              "  <tbody>\n",
              "    <tr>\n",
              "      <th>24060</th>\n",
              "      <td>33</td>\n",
              "      <td>admin.</td>\n",
              "      <td>50000</td>\n",
              "      <td>married</td>\n",
              "      <td>tertiary</td>\n",
              "      <td>yes</td>\n",
              "      <td>no</td>\n",
              "      <td>882</td>\n",
              "      <td>no</td>\n",
              "      <td>no</td>\n",
              "      <td>telephone</td>\n",
              "      <td>21</td>\n",
              "      <td>oct</td>\n",
              "      <td>39</td>\n",
              "      <td>1</td>\n",
              "      <td>151</td>\n",
              "      <td>3</td>\n",
              "      <td>failure</td>\n",
              "      <td>no</td>\n",
              "    </tr>\n",
              "    <tr>\n",
              "      <th>24062</th>\n",
              "      <td>42</td>\n",
              "      <td>admin.</td>\n",
              "      <td>50000</td>\n",
              "      <td>single</td>\n",
              "      <td>secondary</td>\n",
              "      <td>yes</td>\n",
              "      <td>no</td>\n",
              "      <td>-247</td>\n",
              "      <td>yes</td>\n",
              "      <td>yes</td>\n",
              "      <td>telephone</td>\n",
              "      <td>21</td>\n",
              "      <td>oct</td>\n",
              "      <td>519</td>\n",
              "      <td>1</td>\n",
              "      <td>166</td>\n",
              "      <td>1</td>\n",
              "      <td>other</td>\n",
              "      <td>yes</td>\n",
              "    </tr>\n",
              "    <tr>\n",
              "      <th>24064</th>\n",
              "      <td>33</td>\n",
              "      <td>services</td>\n",
              "      <td>70000</td>\n",
              "      <td>married</td>\n",
              "      <td>secondary</td>\n",
              "      <td>yes</td>\n",
              "      <td>no</td>\n",
              "      <td>3444</td>\n",
              "      <td>yes</td>\n",
              "      <td>no</td>\n",
              "      <td>telephone</td>\n",
              "      <td>21</td>\n",
              "      <td>oct</td>\n",
              "      <td>144</td>\n",
              "      <td>1</td>\n",
              "      <td>91</td>\n",
              "      <td>4</td>\n",
              "      <td>failure</td>\n",
              "      <td>yes</td>\n",
              "    </tr>\n",
              "    <tr>\n",
              "      <th>24072</th>\n",
              "      <td>36</td>\n",
              "      <td>management</td>\n",
              "      <td>100000</td>\n",
              "      <td>married</td>\n",
              "      <td>tertiary</td>\n",
              "      <td>yes</td>\n",
              "      <td>no</td>\n",
              "      <td>2415</td>\n",
              "      <td>yes</td>\n",
              "      <td>no</td>\n",
              "      <td>telephone</td>\n",
              "      <td>22</td>\n",
              "      <td>oct</td>\n",
              "      <td>73</td>\n",
              "      <td>1</td>\n",
              "      <td>86</td>\n",
              "      <td>4</td>\n",
              "      <td>other</td>\n",
              "      <td>no</td>\n",
              "    </tr>\n",
              "    <tr>\n",
              "      <th>24077</th>\n",
              "      <td>36</td>\n",
              "      <td>management</td>\n",
              "      <td>100000</td>\n",
              "      <td>married</td>\n",
              "      <td>tertiary</td>\n",
              "      <td>yes</td>\n",
              "      <td>no</td>\n",
              "      <td>0</td>\n",
              "      <td>yes</td>\n",
              "      <td>no</td>\n",
              "      <td>telephone</td>\n",
              "      <td>23</td>\n",
              "      <td>oct</td>\n",
              "      <td>140</td>\n",
              "      <td>1</td>\n",
              "      <td>143</td>\n",
              "      <td>3</td>\n",
              "      <td>failure</td>\n",
              "      <td>yes</td>\n",
              "    </tr>\n",
              "  </tbody>\n",
              "</table>\n",
              "</div>"
            ],
            "text/plain": [
              "       age         job  salary  marital  ... pdays previous poutcome  response\n",
              "24060   33      admin.   50000  married  ...   151        3  failure        no\n",
              "24062   42      admin.   50000   single  ...   166        1    other       yes\n",
              "24064   33    services   70000  married  ...    91        4  failure       yes\n",
              "24072   36  management  100000  married  ...    86        4    other        no\n",
              "24077   36  management  100000  married  ...   143        3  failure       yes\n",
              "\n",
              "[5 rows x 19 columns]"
            ]
          },
          "metadata": {
            "tags": []
          },
          "execution_count": 205
        }
      ]
    },
    {
      "cell_type": "code",
      "metadata": {
        "id": "4QqMlbMtjrTY",
        "colab_type": "code",
        "colab": {
          "base_uri": "https://localhost:8080/",
          "height": 34
        },
        "outputId": "bcd654a6-77e8-42b3-c1b1-1937ded28c46"
      },
      "source": [
        "df.shape"
      ],
      "execution_count": 206,
      "outputs": [
        {
          "output_type": "execute_result",
          "data": {
            "text/plain": [
              "(8257, 19)"
            ]
          },
          "metadata": {
            "tags": []
          },
          "execution_count": 206
        }
      ]
    },
    {
      "cell_type": "markdown",
      "metadata": {
        "id": "lEeYYDrwlX_N",
        "colab_type": "text"
      },
      "source": [
        "## 3. Describe the pdays column again, this time limiting yourself to the relevant values of pdays. How different are the mean and the median values?"
      ]
    },
    {
      "cell_type": "code",
      "metadata": {
        "id": "ILlXhgTvlHpN",
        "colab_type": "code",
        "colab": {
          "base_uri": "https://localhost:8080/",
          "height": 170
        },
        "outputId": "79d7b546-935e-4597-9989-3bea32d833d7"
      },
      "source": [
        "df.pdays.describe()"
      ],
      "execution_count": 207,
      "outputs": [
        {
          "output_type": "execute_result",
          "data": {
            "text/plain": [
              "count    8257.000000\n",
              "mean      224.577692\n",
              "std       115.344035\n",
              "min         1.000000\n",
              "25%       133.000000\n",
              "50%       194.000000\n",
              "75%       327.000000\n",
              "max       871.000000\n",
              "Name: pdays, dtype: float64"
            ]
          },
          "metadata": {
            "tags": []
          },
          "execution_count": 207
        }
      ]
    },
    {
      "cell_type": "markdown",
      "metadata": {
        "id": "jO7HYI49lwDS",
        "colab_type": "text"
      },
      "source": [
        "Now that we have limit ourselves to the relevant values only the mean and median looks better."
      ]
    },
    {
      "cell_type": "markdown",
      "metadata": {
        "id": "eofPftM_mcXS",
        "colab_type": "text"
      },
      "source": [
        "## 4. Plot a horizontal bar graph with the median values of balance for each education level value. Which group has the highest median?"
      ]
    },
    {
      "cell_type": "code",
      "metadata": {
        "id": "hVaxOOeZlu6z",
        "colab_type": "code",
        "colab": {}
      },
      "source": [
        "import matplotlib.pyplot as plt\n",
        "import seaborn as sns\n",
        "import numpy as np"
      ],
      "execution_count": 208,
      "outputs": []
    },
    {
      "cell_type": "code",
      "metadata": {
        "id": "2LPfuMrjqVbg",
        "colab_type": "code",
        "colab": {
          "base_uri": "https://localhost:8080/",
          "height": 119
        },
        "outputId": "b44b3037-fa55-4938-e0ae-a7e4cee47cd4"
      },
      "source": [
        "df.groupby(['education'])['balance'].agg(np.median)"
      ],
      "execution_count": 209,
      "outputs": [
        {
          "output_type": "execute_result",
          "data": {
            "text/plain": [
              "education\n",
              "primary      520\n",
              "secondary    527\n",
              "tertiary     775\n",
              "unknown      782\n",
              "Name: balance, dtype: int64"
            ]
          },
          "metadata": {
            "tags": []
          },
          "execution_count": 209
        }
      ]
    },
    {
      "cell_type": "code",
      "metadata": {
        "id": "_v6jNXETn5he",
        "colab_type": "code",
        "colab": {
          "base_uri": "https://localhost:8080/",
          "height": 265
        },
        "outputId": "d45c949e-46fc-4e3a-8295-54b59b44f6a1"
      },
      "source": [
        "df.groupby(['education'])['balance'].agg(np.median).plot(kind='barh');"
      ],
      "execution_count": 210,
      "outputs": [
        {
          "output_type": "display_data",
          "data": {
            "image/png": "[encoded data removed]",
            "text/plain": [
              "<Figure size 432x288 with 1 Axes>"
            ]
          },
          "metadata": {
            "tags": [],
            "needs_background": "light"
          }
        }
      ]
    },
    {
      "cell_type": "markdown",
      "metadata": {
        "id": "VIT24jc2qYrF",
        "colab_type": "text"
      },
      "source": [
        "So the unknown group has the highest median, and then tertiary is the second highest\n"
      ]
    },
    {
      "cell_type": "markdown",
      "metadata": {
        "id": "bduI5y6RqwtF",
        "colab_type": "text"
      },
      "source": [
        "## 5. Make a box plot for pdays. Do you see any outliers?"
      ]
    },
    {
      "cell_type": "code",
      "metadata": {
        "id": "R9DRvm8_po2m",
        "colab_type": "code",
        "colab": {
          "base_uri": "https://localhost:8080/",
          "height": 296
        },
        "outputId": "b08adb2f-263e-48ca-c795-f515610e613d"
      },
      "source": [
        "sns.boxplot(df.pdays)"
      ],
      "execution_count": 211,
      "outputs": [
        {
          "output_type": "execute_result",
          "data": {
            "text/plain": [
              "<matplotlib.axes._subplots.AxesSubplot at 0x7f513d20d1d0>"
            ]
          },
          "metadata": {
            "tags": []
          },
          "execution_count": 211
        },
        {
          "output_type": "display_data",
          "data": {
            "image/png": "[encoded data removed]",
            "text/plain": [
              "<Figure size 432x288 with 1 Axes>"
            ]
          },
          "metadata": {
            "tags": [],
            "needs_background": "light"
          }
        }
      ]
    },
    {
      "cell_type": "markdown",
      "metadata": {
        "id": "u5zFeUmiwL83",
        "colab_type": "text"
      },
      "source": [
        "so our median lies at 200, and there are some outliers after 600."
      ]
    },
    {
      "cell_type": "markdown",
      "metadata": {
        "id": "zJfOUEmky9yL",
        "colab_type": "text"
      },
      "source": [
        "## Bivariate Analysis"
      ]
    },
    {
      "cell_type": "markdown",
      "metadata": {
        "id": "Kz9bTHTE5leY",
        "colab_type": "text"
      },
      "source": [
        "### Convert the response variable to a convenient form"
      ]
    },
    {
      "cell_type": "code",
      "metadata": {
        "id": "P9rJ41V35jiR",
        "colab_type": "code",
        "colab": {}
      },
      "source": [
        "df = df.replace({'response': {\"yes\": 1,'no':0}})"
      ],
      "execution_count": 212,
      "outputs": []
    },
    {
      "cell_type": "code",
      "metadata": {
        "id": "NSlRdIGJzYJm",
        "colab_type": "code",
        "colab": {}
      },
      "source": [
        "all_cols = df.columns\n",
        "numerical_cols = df._get_numeric_data().columns.to_list()\n",
        "categorical_cols = list(set(all_cols)- set(numerical_cols))"
      ],
      "execution_count": 213,
      "outputs": []
    },
    {
      "cell_type": "code",
      "metadata": {
        "id": "t8JWgx7tzccM",
        "colab_type": "code",
        "colab": {
          "base_uri": "https://localhost:8080/",
          "height": 487
        },
        "outputId": "7928ef43-c4cd-4aab-ea4f-2e2043fb492c"
      },
      "source": [
        "plt.figure(figsize=(12,8))\n",
        "sns.heatmap(df.corr(), annot=True);"
      ],
      "execution_count": 214,
      "outputs": [
        {
          "output_type": "display_data",
          "data": {
            "image/png": "[encoded data removed]",
            "text/plain": [
              "<Figure size 864x576 with 2 Axes>"
            ]
          },
          "metadata": {
            "tags": [],
            "needs_background": "light"
          }
        }
      ]
    },
    {
      "cell_type": "markdown",
      "metadata": {
        "id": "NyrzuOnC88S2",
        "colab_type": "text"
      },
      "source": [
        "### Histograms"
      ]
    },
    {
      "cell_type": "code",
      "metadata": {
        "id": "Vr539YzCBe0L",
        "colab_type": "code",
        "colab": {}
      },
      "source": [
        "import warnings\n",
        "warnings.filterwarnings(\"ignore\")"
      ],
      "execution_count": 215,
      "outputs": []
    },
    {
      "cell_type": "code",
      "metadata": {
        "id": "SnSx3Dtl5_k6",
        "colab_type": "code",
        "colab": {
          "base_uri": "https://localhost:8080/",
          "height": 0
        },
        "outputId": "115f5f99-6e4a-4932-edb3-97c9889260d3"
      },
      "source": [
        "for col in numerical_cols:\n",
        "    if col != 'response':\n",
        "        sns.FacetGrid(df, hue='response', height=6).map(sns.distplot, col).add_legend()"
      ],
      "execution_count": 216,
      "outputs": [
        {
          "output_type": "display_data",
          "data": {
            "image/png": "[encoded data removed]",
            "text/plain": [
              "<Figure size 485.25x432 with 1 Axes>"
            ]
          },
          "metadata": {
            "tags": [],
            "needs_background": "light"
          }
        },
        {
          "output_type": "display_data",
          "data": {
            "image/png": "[encoded data removed]",
            "text/plain": [
              "<Figure size 485.25x432 with 1 Axes>"
            ]
          },
          "metadata": {
            "tags": [],
            "needs_background": "light"
          }
        },
        {
          "output_type": "display_data",
          "data": {
            "image/png": "[encoded data removed]",
            "text/plain": [
              "<Figure size 485.25x432 with 1 Axes>"
            ]
          },
          "metadata": {
            "tags": [],
            "needs_background": "light"
          }
        },
        {
          "output_type": "display_data",
          "data": {
            "image/png": "[encoded data removed]",
            "text/plain": [
              "<Figure size 485.25x432 with 1 Axes>"
            ]
          },
          "metadata": {
            "tags": [],
            "needs_background": "light"
          }
        },
        {
          "output_type": "display_data",
          "data": {
            "image/png": "[encoded data removed]",
            "text/plain": [
              "<Figure size 485.25x432 with 1 Axes>"
            ]
          },
          "metadata": {
            "tags": [],
            "needs_background": "light"
          }
        },
        {
          "output_type": "display_data",
          "data": {
            "image/png": "[encoded data removed]",
            "text/plain": [
              "<Figure size 485.25x432 with 1 Axes>"
            ]
          },
          "metadata": {
            "tags": [],
            "needs_background": "light"
          }
        },
        {
          "output_type": "display_data",
          "data": {
            "image/png": "[encoded data removed]",
            "text/plain": [
              "<Figure size 485.25x432 with 1 Axes>"
            ]
          },
          "metadata": {
            "tags": [],
            "needs_background": "light"
          }
        },
        {
          "output_type": "display_data",
          "data": {
            "image/png": "[encoded data removed]",
            "text/plain": [
              "<Figure size 485.25x432 with 1 Axes>"
            ]
          },
          "metadata": {
            "tags": [],
            "needs_background": "light"
          }
        }
      ]
    },
    {
      "cell_type": "markdown",
      "metadata": {
        "id": "Z0-mGC1IOoW4",
        "colab_type": "text"
      },
      "source": [
        "## Box Plots"
      ]
    },
    {
      "cell_type": "code",
      "metadata": {
        "id": "dtTJQdRbOnZ5",
        "colab_type": "code",
        "colab": {
          "base_uri": "https://localhost:8080/",
          "height": 0
        },
        "outputId": "21699bb5-34f9-4e4c-9644-94ec55c847a0"
      },
      "source": [
        "fig, axes = plt.subplots(nrows=4, ncols=2, figsize=(20, 25))\n",
        "\n",
        "for ax, col in list(zip(axes.flat, numerical_cols)):   \n",
        "    if col != 'response':    \n",
        "        sns.boxplot(col, data=df, ax=ax)"
      ],
      "execution_count": 217,
      "outputs": [
        {
          "output_type": "display_data",
          "data": {
            "image/png": "[encoded data removed]",
            "text/plain": [
              "<Figure size 1440x1800 with 8 Axes>"
            ]
          },
          "metadata": {
            "tags": [],
            "needs_background": "light"
          }
        }
      ]
    },
    {
      "cell_type": "code",
      "metadata": {
        "id": "p7D49d__BWEC",
        "colab_type": "code",
        "colab": {
          "base_uri": "https://localhost:8080/",
          "height": 0
        },
        "outputId": "2a3df7ec-a86b-4ebc-bca6-ea35ad505fea"
      },
      "source": [
        "fig, axes = plt.subplots(nrows=5, ncols=2, figsize=(20, 25))\n",
        "\n",
        "for ax, col in list(zip(axes.flat, categorical_cols)):        \n",
        "    sns.countplot(col, data=df,hue=df['response'], ax=ax)"
      ],
      "execution_count": 218,
      "outputs": [
        {
          "output_type": "display_data",
          "data": {
            "image/png": "[encoded data removed]",
            "text/plain": [
              "<Figure size 1440x1800 with 10 Axes>"
            ]
          },
          "metadata": {
            "tags": [],
            "needs_background": "light"
          }
        }
      ]
    },
    {
      "cell_type": "markdown",
      "metadata": {
        "id": "KhRhBlzVL3Sm",
        "colab_type": "text"
      },
      "source": [
        "## 6.Are the features about the previous campaign data useful?\n",
        "\n"
      ]
    },
    {
      "cell_type": "code",
      "metadata": {
        "id": "W8w1Vnk8KVSV",
        "colab_type": "code",
        "colab": {
          "base_uri": "https://localhost:8080/",
          "height": 0
        },
        "outputId": "b9283eeb-bee5-4160-ffe3-e3a1f08204f1"
      },
      "source": [
        "df[numerical_cols].corr()['response']"
      ],
      "execution_count": 219,
      "outputs": [
        {
          "output_type": "execute_result",
          "data": {
            "text/plain": [
              "age         0.072577\n",
              "salary      0.036774\n",
              "balance     0.076995\n",
              "day         0.029952\n",
              "duration    0.342610\n",
              "campaign   -0.094110\n",
              "pdays      -0.152206\n",
              "previous    0.008622\n",
              "response    1.000000\n",
              "Name: response, dtype: float64"
            ]
          },
          "metadata": {
            "tags": []
          },
          "execution_count": 219
        }
      ]
    },
    {
      "cell_type": "markdown",
      "metadata": {
        "id": "aDsvtpX6OdtT",
        "colab_type": "text"
      },
      "source": [
        "From the above, we can see previous collumns is not highly corelated with the response variable."
      ]
    },
    {
      "cell_type": "markdown",
      "metadata": {
        "id": "bqOgcmfmOuW0",
        "colab_type": "text"
      },
      "source": [
        "## 7. Are pdays and poutcome associated with the target? If yes, and if you plan to use them – how do you handle the pdays column with a value of -1 where the previous campaign data is missing? Explain your approach and your decision.\n",
        "\n",
        "\n",
        "yes, if the previous outcome is success there is a high chance to get successful response again, so i will use poutcome in my final model. \n",
        "\n",
        "if pdays = -1, it indicates that this person was not previosly contacted so, i have dropped these records because we want to study on people who was involved in the campaign\n"
      ]
    },
    {
      "cell_type": "markdown",
      "metadata": {
        "id": "jEEDr7EkQQgP",
        "colab_type": "text"
      },
      "source": [
        "## Data Preprocessing"
      ]
    },
    {
      "cell_type": "markdown",
      "metadata": {
        "id": "_8Q1GZygSHj1",
        "colab_type": "text"
      },
      "source": [
        "Dropping collumns with unknown values, because those hurts the distributions"
      ]
    },
    {
      "cell_type": "code",
      "metadata": {
        "id": "G0LOTCI-C_mK",
        "colab_type": "code",
        "colab": {}
      },
      "source": [
        "df.drop(df[df['poutcome']=='unknown'].index, inplace=True)\n",
        "df.drop(df[df['contact']=='unknown'].index, inplace=True)\n",
        "df.drop(df[df['job']=='unknown'].index, inplace=True)"
      ],
      "execution_count": 220,
      "outputs": []
    },
    {
      "cell_type": "code",
      "metadata": {
        "id": "wrAuWQY5SNyx",
        "colab_type": "code",
        "colab": {}
      },
      "source": [
        "df.job = df.job.str.replace('admin.', 'admin') "
      ],
      "execution_count": 221,
      "outputs": []
    },
    {
      "cell_type": "markdown",
      "metadata": {
        "id": "JqaK53BQQqK-",
        "colab_type": "text"
      },
      "source": [
        "Convert Categorical Features into Numerical"
      ]
    },
    {
      "cell_type": "code",
      "metadata": {
        "id": "VkvTNvpGwh9Q",
        "colab_type": "code",
        "colab": {}
      },
      "source": [
        "df_final = df.copy(deep=True)"
      ],
      "execution_count": 222,
      "outputs": []
    },
    {
      "cell_type": "code",
      "metadata": {
        "id": "Id3JKOXQOQiW",
        "colab_type": "code",
        "colab": {}
      },
      "source": [
        "from sklearn.preprocessing import LabelEncoder\n",
        "df_final[categorical_cols] = df[categorical_cols].apply(LabelEncoder().fit_transform)"
      ],
      "execution_count": 223,
      "outputs": []
    },
    {
      "cell_type": "code",
      "metadata": {
        "id": "eynuvFNpORAY",
        "colab_type": "code",
        "colab": {
          "base_uri": "https://localhost:8080/",
          "height": 224
        },
        "outputId": "df5a71e2-72ed-4f80-980e-37b4b9ce32f3"
      },
      "source": [
        "df_final.head()"
      ],
      "execution_count": 224,
      "outputs": [
        {
          "output_type": "execute_result",
          "data": {
            "text/html": [
              "<div>\n",
              "<style scoped>\n",
              "    .dataframe tbody tr th:only-of-type {\n",
              "        vertical-align: middle;\n",
              "    }\n",
              "\n",
              "    .dataframe tbody tr th {\n",
              "        vertical-align: top;\n",
              "    }\n",
              "\n",
              "    .dataframe thead th {\n",
              "        text-align: right;\n",
              "    }\n",
              "</style>\n",
              "<table border=\"1\" class=\"dataframe\">\n",
              "  <thead>\n",
              "    <tr style=\"text-align: right;\">\n",
              "      <th></th>\n",
              "      <th>age</th>\n",
              "      <th>job</th>\n",
              "      <th>salary</th>\n",
              "      <th>marital</th>\n",
              "      <th>education</th>\n",
              "      <th>targeted</th>\n",
              "      <th>default</th>\n",
              "      <th>balance</th>\n",
              "      <th>housing</th>\n",
              "      <th>loan</th>\n",
              "      <th>contact</th>\n",
              "      <th>day</th>\n",
              "      <th>month</th>\n",
              "      <th>duration</th>\n",
              "      <th>campaign</th>\n",
              "      <th>pdays</th>\n",
              "      <th>previous</th>\n",
              "      <th>poutcome</th>\n",
              "      <th>response</th>\n",
              "    </tr>\n",
              "  </thead>\n",
              "  <tbody>\n",
              "    <tr>\n",
              "      <th>24060</th>\n",
              "      <td>33</td>\n",
              "      <td>0</td>\n",
              "      <td>50000</td>\n",
              "      <td>1</td>\n",
              "      <td>2</td>\n",
              "      <td>1</td>\n",
              "      <td>0</td>\n",
              "      <td>882</td>\n",
              "      <td>0</td>\n",
              "      <td>0</td>\n",
              "      <td>1</td>\n",
              "      <td>21</td>\n",
              "      <td>10</td>\n",
              "      <td>39</td>\n",
              "      <td>1</td>\n",
              "      <td>151</td>\n",
              "      <td>3</td>\n",
              "      <td>0</td>\n",
              "      <td>0</td>\n",
              "    </tr>\n",
              "    <tr>\n",
              "      <th>24062</th>\n",
              "      <td>42</td>\n",
              "      <td>0</td>\n",
              "      <td>50000</td>\n",
              "      <td>2</td>\n",
              "      <td>1</td>\n",
              "      <td>1</td>\n",
              "      <td>0</td>\n",
              "      <td>-247</td>\n",
              "      <td>1</td>\n",
              "      <td>1</td>\n",
              "      <td>1</td>\n",
              "      <td>21</td>\n",
              "      <td>10</td>\n",
              "      <td>519</td>\n",
              "      <td>1</td>\n",
              "      <td>166</td>\n",
              "      <td>1</td>\n",
              "      <td>1</td>\n",
              "      <td>1</td>\n",
              "    </tr>\n",
              "    <tr>\n",
              "      <th>24064</th>\n",
              "      <td>33</td>\n",
              "      <td>7</td>\n",
              "      <td>70000</td>\n",
              "      <td>1</td>\n",
              "      <td>1</td>\n",
              "      <td>1</td>\n",
              "      <td>0</td>\n",
              "      <td>3444</td>\n",
              "      <td>1</td>\n",
              "      <td>0</td>\n",
              "      <td>1</td>\n",
              "      <td>21</td>\n",
              "      <td>10</td>\n",
              "      <td>144</td>\n",
              "      <td>1</td>\n",
              "      <td>91</td>\n",
              "      <td>4</td>\n",
              "      <td>0</td>\n",
              "      <td>1</td>\n",
              "    </tr>\n",
              "    <tr>\n",
              "      <th>24072</th>\n",
              "      <td>36</td>\n",
              "      <td>4</td>\n",
              "      <td>100000</td>\n",
              "      <td>1</td>\n",
              "      <td>2</td>\n",
              "      <td>1</td>\n",
              "      <td>0</td>\n",
              "      <td>2415</td>\n",
              "      <td>1</td>\n",
              "      <td>0</td>\n",
              "      <td>1</td>\n",
              "      <td>22</td>\n",
              "      <td>10</td>\n",
              "      <td>73</td>\n",
              "      <td>1</td>\n",
              "      <td>86</td>\n",
              "      <td>4</td>\n",
              "      <td>1</td>\n",
              "      <td>0</td>\n",
              "    </tr>\n",
              "    <tr>\n",
              "      <th>24077</th>\n",
              "      <td>36</td>\n",
              "      <td>4</td>\n",
              "      <td>100000</td>\n",
              "      <td>1</td>\n",
              "      <td>2</td>\n",
              "      <td>1</td>\n",
              "      <td>0</td>\n",
              "      <td>0</td>\n",
              "      <td>1</td>\n",
              "      <td>0</td>\n",
              "      <td>1</td>\n",
              "      <td>23</td>\n",
              "      <td>10</td>\n",
              "      <td>140</td>\n",
              "      <td>1</td>\n",
              "      <td>143</td>\n",
              "      <td>3</td>\n",
              "      <td>0</td>\n",
              "      <td>1</td>\n",
              "    </tr>\n",
              "  </tbody>\n",
              "</table>\n",
              "</div>"
            ],
            "text/plain": [
              "       age  job  salary  marital  ...  pdays  previous  poutcome  response\n",
              "24060   33    0   50000        1  ...    151         3         0         0\n",
              "24062   42    0   50000        2  ...    166         1         1         1\n",
              "24064   33    7   70000        1  ...     91         4         0         1\n",
              "24072   36    4  100000        1  ...     86         4         1         0\n",
              "24077   36    4  100000        1  ...    143         3         0         1\n",
              "\n",
              "[5 rows x 19 columns]"
            ]
          },
          "metadata": {
            "tags": []
          },
          "execution_count": 224
        }
      ]
    },
    {
      "cell_type": "markdown",
      "metadata": {
        "id": "hglouAvaSv21",
        "colab_type": "text"
      },
      "source": [
        "Looks good!"
      ]
    },
    {
      "cell_type": "markdown",
      "metadata": {
        "id": "hfpvWnUIX8Q-",
        "colab_type": "text"
      },
      "source": [
        "## Train-Test Split"
      ]
    },
    {
      "cell_type": "code",
      "metadata": {
        "id": "phMBvTb0X7nc",
        "colab_type": "code",
        "colab": {}
      },
      "source": [
        "y = df_final.pop('response')\n",
        "X = df_final"
      ],
      "execution_count": 225,
      "outputs": []
    },
    {
      "cell_type": "code",
      "metadata": {
        "id": "SgMIeuq_YXGH",
        "colab_type": "code",
        "colab": {
          "base_uri": "https://localhost:8080/",
          "height": 34
        },
        "outputId": "78fed4c6-6211-4116-d404-0fe9cc69b227"
      },
      "source": [
        "from sklearn.model_selection import train_test_split\n",
        "X_train,X_test,y_train,y_test = train_test_split(X,y,test_size = 0.3,random_state=1)\n",
        "X_train.shape, y_train.shape"
      ],
      "execution_count": 226,
      "outputs": [
        {
          "output_type": "execute_result",
          "data": {
            "text/plain": [
              "((5704, 18), (5704,))"
            ]
          },
          "metadata": {
            "tags": []
          },
          "execution_count": 226
        }
      ]
    },
    {
      "cell_type": "markdown",
      "metadata": {
        "id": "0glaVhf9d4jr",
        "colab_type": "text"
      },
      "source": [
        "## Feature scaling"
      ]
    },
    {
      "cell_type": "code",
      "metadata": {
        "id": "8GhtCYA4bJNx",
        "colab_type": "code",
        "colab": {}
      },
      "source": [
        "from sklearn.preprocessing import StandardScaler\n",
        "sc = StandardScaler()"
      ],
      "execution_count": 227,
      "outputs": []
    },
    {
      "cell_type": "code",
      "metadata": {
        "id": "ZKbNoCFkeHQ8",
        "colab_type": "code",
        "colab": {
          "base_uri": "https://localhost:8080/",
          "height": 34
        },
        "outputId": "6e675578-ab2a-4784-a96b-e4333cc0049e"
      },
      "source": [
        "sc.fit(X_train[numerical_cols[:-1]]) #Last collumn was response, but we no more have it in X_Train so -1 indicates exclusion of that"
      ],
      "execution_count": 228,
      "outputs": [
        {
          "output_type": "execute_result",
          "data": {
            "text/plain": [
              "StandardScaler(copy=True, with_mean=True, with_std=True)"
            ]
          },
          "metadata": {
            "tags": []
          },
          "execution_count": 228
        }
      ]
    },
    {
      "cell_type": "code",
      "metadata": {
        "id": "UjJAiwbiehbO",
        "colab_type": "code",
        "colab": {
          "base_uri": "https://localhost:8080/",
          "height": 224
        },
        "outputId": "b02938f8-334b-449a-bcac-2836f004b640"
      },
      "source": [
        "X_train[numerical_cols[:-1]] = sc.transform(X_train[numerical_cols[:-1]])\n",
        "X_train.head()"
      ],
      "execution_count": 229,
      "outputs": [
        {
          "output_type": "execute_result",
          "data": {
            "text/html": [
              "<div>\n",
              "<style scoped>\n",
              "    .dataframe tbody tr th:only-of-type {\n",
              "        vertical-align: middle;\n",
              "    }\n",
              "\n",
              "    .dataframe tbody tr th {\n",
              "        vertical-align: top;\n",
              "    }\n",
              "\n",
              "    .dataframe thead th {\n",
              "        text-align: right;\n",
              "    }\n",
              "</style>\n",
              "<table border=\"1\" class=\"dataframe\">\n",
              "  <thead>\n",
              "    <tr style=\"text-align: right;\">\n",
              "      <th></th>\n",
              "      <th>age</th>\n",
              "      <th>job</th>\n",
              "      <th>salary</th>\n",
              "      <th>marital</th>\n",
              "      <th>education</th>\n",
              "      <th>targeted</th>\n",
              "      <th>default</th>\n",
              "      <th>balance</th>\n",
              "      <th>housing</th>\n",
              "      <th>loan</th>\n",
              "      <th>contact</th>\n",
              "      <th>day</th>\n",
              "      <th>month</th>\n",
              "      <th>duration</th>\n",
              "      <th>campaign</th>\n",
              "      <th>pdays</th>\n",
              "      <th>previous</th>\n",
              "      <th>poutcome</th>\n",
              "    </tr>\n",
              "  </thead>\n",
              "  <tbody>\n",
              "    <tr>\n",
              "      <th>40491</th>\n",
              "      <td>1.049063</td>\n",
              "      <td>0</td>\n",
              "      <td>-0.250633</td>\n",
              "      <td>2</td>\n",
              "      <td>1</td>\n",
              "      <td>1</td>\n",
              "      <td>0</td>\n",
              "      <td>0.120390</td>\n",
              "      <td>0</td>\n",
              "      <td>0</td>\n",
              "      <td>1</td>\n",
              "      <td>-0.924492</td>\n",
              "      <td>5</td>\n",
              "      <td>-0.763877</td>\n",
              "      <td>-0.053701</td>\n",
              "      <td>-1.328660</td>\n",
              "      <td>0.163412</td>\n",
              "      <td>0</td>\n",
              "    </tr>\n",
              "    <tr>\n",
              "      <th>43777</th>\n",
              "      <td>0.961920</td>\n",
              "      <td>0</td>\n",
              "      <td>-0.250633</td>\n",
              "      <td>2</td>\n",
              "      <td>1</td>\n",
              "      <td>1</td>\n",
              "      <td>0</td>\n",
              "      <td>-0.265456</td>\n",
              "      <td>1</td>\n",
              "      <td>0</td>\n",
              "      <td>0</td>\n",
              "      <td>1.224110</td>\n",
              "      <td>8</td>\n",
              "      <td>1.884625</td>\n",
              "      <td>-0.686580</td>\n",
              "      <td>1.395901</td>\n",
              "      <td>1.171091</td>\n",
              "      <td>0</td>\n",
              "    </tr>\n",
              "    <tr>\n",
              "      <th>32747</th>\n",
              "      <td>0.526205</td>\n",
              "      <td>0</td>\n",
              "      <td>-0.250633</td>\n",
              "      <td>2</td>\n",
              "      <td>0</td>\n",
              "      <td>1</td>\n",
              "      <td>0</td>\n",
              "      <td>-0.278923</td>\n",
              "      <td>0</td>\n",
              "      <td>0</td>\n",
              "      <td>0</td>\n",
              "      <td>0.339392</td>\n",
              "      <td>0</td>\n",
              "      <td>-0.802510</td>\n",
              "      <td>-0.686580</td>\n",
              "      <td>-0.672247</td>\n",
              "      <td>-0.441195</td>\n",
              "      <td>0</td>\n",
              "    </tr>\n",
              "    <tr>\n",
              "      <th>44680</th>\n",
              "      <td>-1.216658</td>\n",
              "      <td>6</td>\n",
              "      <td>0.065422</td>\n",
              "      <td>2</td>\n",
              "      <td>2</td>\n",
              "      <td>0</td>\n",
              "      <td>0</td>\n",
              "      <td>-0.317445</td>\n",
              "      <td>0</td>\n",
              "      <td>0</td>\n",
              "      <td>1</td>\n",
              "      <td>-1.430045</td>\n",
              "      <td>11</td>\n",
              "      <td>1.214987</td>\n",
              "      <td>4.376450</td>\n",
              "      <td>2.178200</td>\n",
              "      <td>-0.239659</td>\n",
              "      <td>0</td>\n",
              "    </tr>\n",
              "    <tr>\n",
              "      <th>32910</th>\n",
              "      <td>0.177632</td>\n",
              "      <td>4</td>\n",
              "      <td>1.329641</td>\n",
              "      <td>1</td>\n",
              "      <td>2</td>\n",
              "      <td>1</td>\n",
              "      <td>0</td>\n",
              "      <td>-0.438022</td>\n",
              "      <td>1</td>\n",
              "      <td>0</td>\n",
              "      <td>0</td>\n",
              "      <td>0.339392</td>\n",
              "      <td>0</td>\n",
              "      <td>-0.562127</td>\n",
              "      <td>1.212056</td>\n",
              "      <td>1.027231</td>\n",
              "      <td>-0.441195</td>\n",
              "      <td>1</td>\n",
              "    </tr>\n",
              "  </tbody>\n",
              "</table>\n",
              "</div>"
            ],
            "text/plain": [
              "            age  job    salary  marital  ...  campaign     pdays  previous  poutcome\n",
              "40491  1.049063    0 -0.250633        2  ... -0.053701 -1.328660  0.163412         0\n",
              "43777  0.961920    0 -0.250633        2  ... -0.686580  1.395901  1.171091         0\n",
              "32747  0.526205    0 -0.250633        2  ... -0.686580 -0.672247 -0.441195         0\n",
              "44680 -1.216658    6  0.065422        2  ...  4.376450  2.178200 -0.239659         0\n",
              "32910  0.177632    4  1.329641        1  ...  1.212056  1.027231 -0.441195         1\n",
              "\n",
              "[5 rows x 18 columns]"
            ]
          },
          "metadata": {
            "tags": []
          },
          "execution_count": 229
        }
      ]
    },
    {
      "cell_type": "code",
      "metadata": {
        "id": "kMHK3-2hfI-M",
        "colab_type": "code",
        "colab": {
          "base_uri": "https://localhost:8080/",
          "height": 224
        },
        "outputId": "c3380a2f-af08-4856-8ddd-e99d9d982fc0"
      },
      "source": [
        "X_test[numerical_cols[:-1]] = sc.transform(X_test[numerical_cols[:-1]])\n",
        "X_test.head()"
      ],
      "execution_count": 230,
      "outputs": [
        {
          "output_type": "execute_result",
          "data": {
            "text/html": [
              "<div>\n",
              "<style scoped>\n",
              "    .dataframe tbody tr th:only-of-type {\n",
              "        vertical-align: middle;\n",
              "    }\n",
              "\n",
              "    .dataframe tbody tr th {\n",
              "        vertical-align: top;\n",
              "    }\n",
              "\n",
              "    .dataframe thead th {\n",
              "        text-align: right;\n",
              "    }\n",
              "</style>\n",
              "<table border=\"1\" class=\"dataframe\">\n",
              "  <thead>\n",
              "    <tr style=\"text-align: right;\">\n",
              "      <th></th>\n",
              "      <th>age</th>\n",
              "      <th>job</th>\n",
              "      <th>salary</th>\n",
              "      <th>marital</th>\n",
              "      <th>education</th>\n",
              "      <th>targeted</th>\n",
              "      <th>default</th>\n",
              "      <th>balance</th>\n",
              "      <th>housing</th>\n",
              "      <th>loan</th>\n",
              "      <th>contact</th>\n",
              "      <th>day</th>\n",
              "      <th>month</th>\n",
              "      <th>duration</th>\n",
              "      <th>campaign</th>\n",
              "      <th>pdays</th>\n",
              "      <th>previous</th>\n",
              "      <th>poutcome</th>\n",
              "    </tr>\n",
              "  </thead>\n",
              "  <tbody>\n",
              "    <tr>\n",
              "      <th>25359</th>\n",
              "      <td>0.003346</td>\n",
              "      <td>0</td>\n",
              "      <td>-0.250633</td>\n",
              "      <td>1</td>\n",
              "      <td>1</td>\n",
              "      <td>1</td>\n",
              "      <td>0</td>\n",
              "      <td>-0.077231</td>\n",
              "      <td>1</td>\n",
              "      <td>1</td>\n",
              "      <td>0</td>\n",
              "      <td>0.465780</td>\n",
              "      <td>9</td>\n",
              "      <td>0.708467</td>\n",
              "      <td>-0.053701</td>\n",
              "      <td>-0.420473</td>\n",
              "      <td>-0.239659</td>\n",
              "      <td>0</td>\n",
              "    </tr>\n",
              "    <tr>\n",
              "      <th>36458</th>\n",
              "      <td>0.526205</td>\n",
              "      <td>0</td>\n",
              "      <td>-0.250633</td>\n",
              "      <td>2</td>\n",
              "      <td>1</td>\n",
              "      <td>1</td>\n",
              "      <td>0</td>\n",
              "      <td>0.746450</td>\n",
              "      <td>1</td>\n",
              "      <td>0</td>\n",
              "      <td>1</td>\n",
              "      <td>-0.418938</td>\n",
              "      <td>8</td>\n",
              "      <td>-0.866898</td>\n",
              "      <td>0.579177</td>\n",
              "      <td>1.000255</td>\n",
              "      <td>-0.038124</td>\n",
              "      <td>1</td>\n",
              "    </tr>\n",
              "    <tr>\n",
              "      <th>35041</th>\n",
              "      <td>-1.216658</td>\n",
              "      <td>8</td>\n",
              "      <td>-1.704486</td>\n",
              "      <td>2</td>\n",
              "      <td>1</td>\n",
              "      <td>1</td>\n",
              "      <td>0</td>\n",
              "      <td>0.476796</td>\n",
              "      <td>1</td>\n",
              "      <td>0</td>\n",
              "      <td>1</td>\n",
              "      <td>-1.050880</td>\n",
              "      <td>8</td>\n",
              "      <td>-0.849728</td>\n",
              "      <td>1.212056</td>\n",
              "      <td>1.207070</td>\n",
              "      <td>-0.441195</td>\n",
              "      <td>0</td>\n",
              "    </tr>\n",
              "    <tr>\n",
              "      <th>32655</th>\n",
              "      <td>-0.345227</td>\n",
              "      <td>9</td>\n",
              "      <td>0.065422</td>\n",
              "      <td>1</td>\n",
              "      <td>1</td>\n",
              "      <td>1</td>\n",
              "      <td>0</td>\n",
              "      <td>-0.521017</td>\n",
              "      <td>1</td>\n",
              "      <td>0</td>\n",
              "      <td>0</td>\n",
              "      <td>0.339392</td>\n",
              "      <td>0</td>\n",
              "      <td>2.837571</td>\n",
              "      <td>-0.053701</td>\n",
              "      <td>0.361827</td>\n",
              "      <td>-0.038124</td>\n",
              "      <td>0</td>\n",
              "    </tr>\n",
              "    <tr>\n",
              "      <th>35572</th>\n",
              "      <td>0.177632</td>\n",
              "      <td>0</td>\n",
              "      <td>-0.250633</td>\n",
              "      <td>0</td>\n",
              "      <td>1</td>\n",
              "      <td>1</td>\n",
              "      <td>0</td>\n",
              "      <td>-0.447105</td>\n",
              "      <td>1</td>\n",
              "      <td>0</td>\n",
              "      <td>0</td>\n",
              "      <td>-0.924492</td>\n",
              "      <td>8</td>\n",
              "      <td>0.060292</td>\n",
              "      <td>0.579177</td>\n",
              "      <td>1.216062</td>\n",
              "      <td>-0.239659</td>\n",
              "      <td>0</td>\n",
              "    </tr>\n",
              "  </tbody>\n",
              "</table>\n",
              "</div>"
            ],
            "text/plain": [
              "            age  job    salary  marital  ...  campaign     pdays  previous  poutcome\n",
              "25359  0.003346    0 -0.250633        1  ... -0.053701 -0.420473 -0.239659         0\n",
              "36458  0.526205    0 -0.250633        2  ...  0.579177  1.000255 -0.038124         1\n",
              "35041 -1.216658    8 -1.704486        2  ...  1.212056  1.207070 -0.441195         0\n",
              "32655 -0.345227    9  0.065422        1  ... -0.053701  0.361827 -0.038124         0\n",
              "35572  0.177632    0 -0.250633        0  ...  0.579177  1.216062 -0.239659         0\n",
              "\n",
              "[5 rows x 18 columns]"
            ]
          },
          "metadata": {
            "tags": []
          },
          "execution_count": 230
        }
      ]
    },
    {
      "cell_type": "markdown",
      "metadata": {
        "id": "m58wvaR-gmjf",
        "colab_type": "text"
      },
      "source": [
        "## Predictive model 1: Logistic regression"
      ]
    },
    {
      "cell_type": "code",
      "metadata": {
        "id": "opU5otGlfRg2",
        "colab_type": "code",
        "colab": {}
      },
      "source": [
        "from sklearn.linear_model import LogisticRegression\n",
        "from sklearn.metrics import confusion_matrix, accuracy_score,precision_score,recall_score, classification_report\n",
        "from sklearn.model_selection import cross_val_score"
      ],
      "execution_count": 231,
      "outputs": []
    },
    {
      "cell_type": "code",
      "metadata": {
        "id": "9vkNo75ihMmX",
        "colab_type": "code",
        "colab": {}
      },
      "source": [
        "clf = LogisticRegression()"
      ],
      "execution_count": 232,
      "outputs": []
    },
    {
      "cell_type": "code",
      "metadata": {
        "id": "zUKEe_bthPgs",
        "colab_type": "code",
        "colab": {
          "base_uri": "https://localhost:8080/",
          "height": 102
        },
        "outputId": "cf6ee58e-be4f-4cf4-cfa1-6854266972a9"
      },
      "source": [
        "clf.fit(X_train, y_train)"
      ],
      "execution_count": 233,
      "outputs": [
        {
          "output_type": "execute_result",
          "data": {
            "text/plain": [
              "LogisticRegression(C=1.0, class_weight=None, dual=False, fit_intercept=True,\n",
              "                   intercept_scaling=1, l1_ratio=None, max_iter=100,\n",
              "                   multi_class='auto', n_jobs=None, penalty='l2',\n",
              "                   random_state=None, solver='lbfgs', tol=0.0001, verbose=0,\n",
              "                   warm_start=False)"
            ]
          },
          "metadata": {
            "tags": []
          },
          "execution_count": 233
        }
      ]
    },
    {
      "cell_type": "code",
      "metadata": {
        "id": "1rdU5yW4hiWm",
        "colab_type": "code",
        "colab": {}
      },
      "source": [
        "y_pred = clf.predict(X_test)"
      ],
      "execution_count": 234,
      "outputs": []
    },
    {
      "cell_type": "code",
      "metadata": {
        "id": "WJ8zo48ODNHw",
        "colab_type": "code",
        "colab": {}
      },
      "source": [
        "def show_report(clf, y_true, y_pred): \n",
        "    print('Accuracy: ',accuracy_score(y_true, y_pred))\n",
        "    print('================================')\n",
        "    print('Precision: ',precision_score(y_true, y_pred))\n",
        "    print('================================')\n",
        "    print('Recall: ',recall_score(y_true, y_pred))\n",
        "    print('================================')\n",
        "    print('\\nClassification Report\\n')\n",
        "    print(classification_report(y_true, y_pred))\n",
        "    print('================================')\n",
        "    print('\\nconfusion_matrix\\n')\n",
        "    print(confusion_matrix(y_true, y_pred))\n",
        "    print('================================')\n",
        "    print('\\ncross validation:',cross_val_score(clf, X, y, cv=5))"
      ],
      "execution_count": 235,
      "outputs": []
    },
    {
      "cell_type": "code",
      "metadata": {
        "id": "Pj80f01GhsW0",
        "colab_type": "code",
        "colab": {
          "base_uri": "https://localhost:8080/",
          "height": 476
        },
        "outputId": "8075df4c-93c4-4aae-dbec-5e67b49f2335"
      },
      "source": [
        "show_report(clf, y_pred, y_test)"
      ],
      "execution_count": 236,
      "outputs": [
        {
          "output_type": "stream",
          "text": [
            "Accuracy:  0.8253578732106339\n",
            "================================\n",
            "Precision:  0.5051369863013698\n",
            "================================\n",
            "Recall:  0.6812933025404158\n",
            "================================\n",
            "\n",
            "Classification Report\n",
            "\n",
            "              precision    recall  f1-score   support\n",
            "\n",
            "           0       0.93      0.86      0.89      2012\n",
            "           1       0.51      0.68      0.58       433\n",
            "\n",
            "    accuracy                           0.83      2445\n",
            "   macro avg       0.72      0.77      0.73      2445\n",
            "weighted avg       0.85      0.83      0.83      2445\n",
            "\n",
            "================================\n",
            "\n",
            "confusion_matrix\n",
            "\n",
            "[[1723  289]\n",
            " [ 138  295]]\n",
            "================================\n",
            "\n",
            "cross validation: [0.79509202 0.72331288 0.77852761 0.77361963 0.73173726]\n"
          ],
          "name": "stdout"
        }
      ]
    },
    {
      "cell_type": "markdown",
      "metadata": {
        "id": "ASJWlGuTpwun",
        "colab_type": "text"
      },
      "source": [
        "## RFE Model"
      ]
    },
    {
      "cell_type": "code",
      "metadata": {
        "id": "FIZNDfCDokLD",
        "colab_type": "code",
        "colab": {}
      },
      "source": [
        "from sklearn.feature_selection import RFE\n",
        "rfe = RFE(clf, 15)"
      ],
      "execution_count": 237,
      "outputs": []
    },
    {
      "cell_type": "code",
      "metadata": {
        "id": "2swmjv_sokUX",
        "colab_type": "code",
        "colab": {
          "base_uri": "https://localhost:8080/",
          "height": 34
        },
        "outputId": "93ff6b0f-f86f-49f1-a26a-4e7441a32683"
      },
      "source": [
        "rfe = rfe.fit(X_train, y_train)\n",
        "ranks = rfe.ranking_\n",
        "ranks"
      ],
      "execution_count": 238,
      "outputs": [
        {
          "output_type": "execute_result",
          "data": {
            "text/plain": [
              "array([1, 3, 1, 1, 1, 4, 1, 1, 1, 1, 1, 1, 2, 1, 1, 1, 1, 1])"
            ]
          },
          "metadata": {
            "tags": []
          },
          "execution_count": 238
        }
      ]
    },
    {
      "cell_type": "markdown",
      "metadata": {
        "id": "5Os7jcUusWGM",
        "colab_type": "text"
      },
      "source": [
        "The higher values mean that they were dropped at the early stage and the smaller values mean that they survive till the end and prove themselves fittest for the model. In a nutshell, columns with lower ranks are good for us.\n"
      ]
    },
    {
      "cell_type": "code",
      "metadata": {
        "id": "r1HQJk_MokOA",
        "colab_type": "code",
        "colab": {
          "base_uri": "https://localhost:8080/",
          "height": 85
        },
        "outputId": "5b1f9cdf-25d1-4b37-f9f5-7398584bbae9"
      },
      "source": [
        "print(X_train.columns[rfe.support_])\n",
        "cols = X_train.columns[rfe.support_]\n",
        "clf.fit(X_train[cols],y_train)\n",
        "y_pred2 = clf.predict(X_test[cols])"
      ],
      "execution_count": 239,
      "outputs": [
        {
          "output_type": "stream",
          "text": [
            "Index(['age', 'salary', 'marital', 'education', 'default', 'balance',\n",
            "       'housing', 'loan', 'contact', 'day', 'duration', 'campaign', 'pdays',\n",
            "       'previous', 'poutcome'],\n",
            "      dtype='object')\n"
          ],
          "name": "stdout"
        }
      ]
    },
    {
      "cell_type": "code",
      "metadata": {
        "id": "pMMQY2iCokHh",
        "colab_type": "code",
        "colab": {
          "base_uri": "https://localhost:8080/",
          "height": 476
        },
        "outputId": "e81df05b-cdb9-4f85-f313-d2fe2fd3dee9"
      },
      "source": [
        "show_report(clf, y_pred2, y_test)"
      ],
      "execution_count": 240,
      "outputs": [
        {
          "output_type": "stream",
          "text": [
            "Accuracy:  0.8233128834355828\n",
            "================================\n",
            "Precision:  0.4982876712328767\n",
            "================================\n",
            "Recall:  0.6767441860465117\n",
            "================================\n",
            "\n",
            "Classification Report\n",
            "\n",
            "              precision    recall  f1-score   support\n",
            "\n",
            "           0       0.93      0.85      0.89      2015\n",
            "           1       0.50      0.68      0.57       430\n",
            "\n",
            "    accuracy                           0.82      2445\n",
            "   macro avg       0.71      0.77      0.73      2445\n",
            "weighted avg       0.85      0.82      0.83      2445\n",
            "\n",
            "================================\n",
            "\n",
            "confusion_matrix\n",
            "\n",
            "[[1722  293]\n",
            " [ 139  291]]\n",
            "================================\n",
            "\n",
            "cross validation: [0.79509202 0.72331288 0.77852761 0.77361963 0.73173726]\n"
          ],
          "name": "stdout"
        }
      ]
    },
    {
      "cell_type": "markdown",
      "metadata": {
        "id": "1CvXkO5stRB-",
        "colab_type": "text"
      },
      "source": [
        "## VIF"
      ]
    },
    {
      "cell_type": "code",
      "metadata": {
        "id": "sqx8lTkDokFb",
        "colab_type": "code",
        "colab": {}
      },
      "source": [
        "from statsmodels.stats.outliers_influence import variance_inflation_factor"
      ],
      "execution_count": 241,
      "outputs": []
    },
    {
      "cell_type": "code",
      "metadata": {
        "id": "5tNT-6DookC2",
        "colab_type": "code",
        "colab": {
          "base_uri": "https://localhost:8080/",
          "height": 514
        },
        "outputId": "25b7080d-9ea1-4274-ea58-50a86aa4d116"
      },
      "source": [
        "vif = pd.DataFrame()\n",
        "vif['features'] = X_train[cols].columns\n",
        "vif['VIF'] = [variance_inflation_factor(X_train[cols].values, i).round(2) for i in range(X_train[cols].shape[1])]\n",
        "vif = vif.sort_values(by='VIF', ascending=True)\n",
        "vif"
      ],
      "execution_count": 242,
      "outputs": [
        {
          "output_type": "execute_result",
          "data": {
            "text/html": [
              "<div>\n",
              "<style scoped>\n",
              "    .dataframe tbody tr th:only-of-type {\n",
              "        vertical-align: middle;\n",
              "    }\n",
              "\n",
              "    .dataframe tbody tr th {\n",
              "        vertical-align: top;\n",
              "    }\n",
              "\n",
              "    .dataframe thead th {\n",
              "        text-align: right;\n",
              "    }\n",
              "</style>\n",
              "<table border=\"1\" class=\"dataframe\">\n",
              "  <thead>\n",
              "    <tr style=\"text-align: right;\">\n",
              "      <th></th>\n",
              "      <th>features</th>\n",
              "      <th>VIF</th>\n",
              "    </tr>\n",
              "  </thead>\n",
              "  <tbody>\n",
              "    <tr>\n",
              "      <th>4</th>\n",
              "      <td>default</td>\n",
              "      <td>1.01</td>\n",
              "    </tr>\n",
              "    <tr>\n",
              "      <th>9</th>\n",
              "      <td>day</td>\n",
              "      <td>1.01</td>\n",
              "    </tr>\n",
              "    <tr>\n",
              "      <th>13</th>\n",
              "      <td>previous</td>\n",
              "      <td>1.02</td>\n",
              "    </tr>\n",
              "    <tr>\n",
              "      <th>10</th>\n",
              "      <td>duration</td>\n",
              "      <td>1.03</td>\n",
              "    </tr>\n",
              "    <tr>\n",
              "      <th>5</th>\n",
              "      <td>balance</td>\n",
              "      <td>1.04</td>\n",
              "    </tr>\n",
              "    <tr>\n",
              "      <th>11</th>\n",
              "      <td>campaign</td>\n",
              "      <td>1.04</td>\n",
              "    </tr>\n",
              "    <tr>\n",
              "      <th>8</th>\n",
              "      <td>contact</td>\n",
              "      <td>1.15</td>\n",
              "    </tr>\n",
              "    <tr>\n",
              "      <th>7</th>\n",
              "      <td>loan</td>\n",
              "      <td>1.17</td>\n",
              "    </tr>\n",
              "    <tr>\n",
              "      <th>0</th>\n",
              "      <td>age</td>\n",
              "      <td>1.20</td>\n",
              "    </tr>\n",
              "    <tr>\n",
              "      <th>1</th>\n",
              "      <td>salary</td>\n",
              "      <td>1.21</td>\n",
              "    </tr>\n",
              "    <tr>\n",
              "      <th>12</th>\n",
              "      <td>pdays</td>\n",
              "      <td>1.21</td>\n",
              "    </tr>\n",
              "    <tr>\n",
              "      <th>14</th>\n",
              "      <td>poutcome</td>\n",
              "      <td>1.65</td>\n",
              "    </tr>\n",
              "    <tr>\n",
              "      <th>6</th>\n",
              "      <td>housing</td>\n",
              "      <td>2.40</td>\n",
              "    </tr>\n",
              "    <tr>\n",
              "      <th>3</th>\n",
              "      <td>education</td>\n",
              "      <td>3.89</td>\n",
              "    </tr>\n",
              "    <tr>\n",
              "      <th>2</th>\n",
              "      <td>marital</td>\n",
              "      <td>3.98</td>\n",
              "    </tr>\n",
              "  </tbody>\n",
              "</table>\n",
              "</div>"
            ],
            "text/plain": [
              "     features   VIF\n",
              "4     default  1.01\n",
              "9         day  1.01\n",
              "13   previous  1.02\n",
              "10   duration  1.03\n",
              "5     balance  1.04\n",
              "11   campaign  1.04\n",
              "8     contact  1.15\n",
              "7        loan  1.17\n",
              "0         age  1.20\n",
              "1      salary  1.21\n",
              "12      pdays  1.21\n",
              "14   poutcome  1.65\n",
              "6     housing  2.40\n",
              "3   education  3.89\n",
              "2     marital  3.98"
            ]
          },
          "metadata": {
            "tags": []
          },
          "execution_count": 242
        }
      ]
    },
    {
      "cell_type": "markdown",
      "metadata": {
        "id": "HB3JHixZvhgX",
        "colab_type": "text"
      },
      "source": [
        "## P-value"
      ]
    },
    {
      "cell_type": "code",
      "metadata": {
        "id": "h9FzUiQfvhKO",
        "colab_type": "code",
        "colab": {}
      },
      "source": [
        "import statsmodels.api as sm\n",
        "from statsmodels.sandbox.regression.predstd import wls_prediction_std\n",
        "a = sm.add_constant(X_train[cols])\n",
        "b = y_train"
      ],
      "execution_count": 243,
      "outputs": []
    },
    {
      "cell_type": "code",
      "metadata": {
        "id": "BxibeeLvvhIl",
        "colab_type": "code",
        "colab": {
          "base_uri": "https://localhost:8080/",
          "height": 680
        },
        "outputId": "b6e9d344-6e48-4c58-877b-d872321dc1c4"
      },
      "source": [
        "model = sm.OLS(b, a)\n",
        "results = model.fit()\n",
        "print(results.summary())"
      ],
      "execution_count": 244,
      "outputs": [
        {
          "output_type": "stream",
          "text": [
            "                            OLS Regression Results                            \n",
            "==============================================================================\n",
            "Dep. Variable:               response   R-squared:                       0.314\n",
            "Model:                            OLS   Adj. R-squared:                  0.313\n",
            "Method:                 Least Squares   F-statistic:                     173.9\n",
            "Date:                Fri, 28 Aug 2020   Prob (F-statistic):               0.00\n",
            "Time:                        16:04:26   Log-Likelihood:                -2047.9\n",
            "No. Observations:                5704   AIC:                             4128.\n",
            "Df Residuals:                    5688   BIC:                             4234.\n",
            "Df Model:                          15                                         \n",
            "Covariance Type:            nonrobust                                         \n",
            "==============================================================================\n",
            "                 coef    std err          t      P>|t|      [0.025      0.975]\n",
            "------------------------------------------------------------------------------\n",
            "const          0.1922      0.017     11.184      0.000       0.158       0.226\n",
            "age            0.0084      0.005      1.550      0.121      -0.002       0.019\n",
            "salary         0.0062      0.005      1.203      0.229      -0.004       0.016\n",
            "marital        0.0134      0.008      1.605      0.109      -0.003       0.030\n",
            "education      0.0250      0.007      3.454      0.001       0.011       0.039\n",
            "default       -0.0313      0.058     -0.538      0.591      -0.145       0.083\n",
            "balance        0.0105      0.005      2.240      0.025       0.001       0.020\n",
            "housing       -0.1664      0.011    -15.459      0.000      -0.187      -0.145\n",
            "loan          -0.0622      0.014     -4.541      0.000      -0.089      -0.035\n",
            "contact       -0.0337      0.018     -1.891      0.059      -0.069       0.001\n",
            "day            0.0053      0.005      1.145      0.252      -0.004       0.014\n",
            "duration       0.1203      0.005     25.816      0.000       0.111       0.129\n",
            "campaign      -0.0221      0.005     -4.709      0.000      -0.031      -0.013\n",
            "pdays          0.0046      0.005      0.907      0.364      -0.005       0.015\n",
            "previous       0.0034      0.005      0.728      0.467      -0.006       0.012\n",
            "poutcome       0.1731      0.006     27.380      0.000       0.161       0.185\n",
            "==============================================================================\n",
            "Omnibus:                      422.816   Durbin-Watson:                   2.014\n",
            "Prob(Omnibus):                  0.000   Jarque-Bera (JB):              521.711\n",
            "Skew:                           0.710   Prob(JB):                    5.15e-114\n",
            "Kurtosis:                       3.424   Cond. No.                         29.0\n",
            "==============================================================================\n",
            "\n",
            "Warnings:\n",
            "[1] Standard Errors assume that the covariance matrix of the errors is correctly specified.\n"
          ],
          "name": "stdout"
        }
      ]
    },
    {
      "cell_type": "code",
      "metadata": {
        "id": "-8QS35skvhGa",
        "colab_type": "code",
        "colab": {
          "base_uri": "https://localhost:8080/",
          "height": 514
        },
        "outputId": "1f53afc3-69d9-4807-e841-c3440196773a"
      },
      "source": [
        "pvals = []\n",
        "for i in cols:\n",
        "    a = round(results.pvalues[i],3)\n",
        "    pvals.append(a)\n",
        "\n",
        "a = zip(cols, pvals)\n",
        "df_pvals = pd.DataFrame(a, columns=['Column', 'pvalues']).sort_values('pvalues')\n",
        "df_pvals"
      ],
      "execution_count": 245,
      "outputs": [
        {
          "output_type": "execute_result",
          "data": {
            "text/html": [
              "<div>\n",
              "<style scoped>\n",
              "    .dataframe tbody tr th:only-of-type {\n",
              "        vertical-align: middle;\n",
              "    }\n",
              "\n",
              "    .dataframe tbody tr th {\n",
              "        vertical-align: top;\n",
              "    }\n",
              "\n",
              "    .dataframe thead th {\n",
              "        text-align: right;\n",
              "    }\n",
              "</style>\n",
              "<table border=\"1\" class=\"dataframe\">\n",
              "  <thead>\n",
              "    <tr style=\"text-align: right;\">\n",
              "      <th></th>\n",
              "      <th>Column</th>\n",
              "      <th>pvalues</th>\n",
              "    </tr>\n",
              "  </thead>\n",
              "  <tbody>\n",
              "    <tr>\n",
              "      <th>6</th>\n",
              "      <td>housing</td>\n",
              "      <td>0.000</td>\n",
              "    </tr>\n",
              "    <tr>\n",
              "      <th>7</th>\n",
              "      <td>loan</td>\n",
              "      <td>0.000</td>\n",
              "    </tr>\n",
              "    <tr>\n",
              "      <th>10</th>\n",
              "      <td>duration</td>\n",
              "      <td>0.000</td>\n",
              "    </tr>\n",
              "    <tr>\n",
              "      <th>11</th>\n",
              "      <td>campaign</td>\n",
              "      <td>0.000</td>\n",
              "    </tr>\n",
              "    <tr>\n",
              "      <th>14</th>\n",
              "      <td>poutcome</td>\n",
              "      <td>0.000</td>\n",
              "    </tr>\n",
              "    <tr>\n",
              "      <th>3</th>\n",
              "      <td>education</td>\n",
              "      <td>0.001</td>\n",
              "    </tr>\n",
              "    <tr>\n",
              "      <th>5</th>\n",
              "      <td>balance</td>\n",
              "      <td>0.025</td>\n",
              "    </tr>\n",
              "    <tr>\n",
              "      <th>8</th>\n",
              "      <td>contact</td>\n",
              "      <td>0.059</td>\n",
              "    </tr>\n",
              "    <tr>\n",
              "      <th>2</th>\n",
              "      <td>marital</td>\n",
              "      <td>0.109</td>\n",
              "    </tr>\n",
              "    <tr>\n",
              "      <th>0</th>\n",
              "      <td>age</td>\n",
              "      <td>0.121</td>\n",
              "    </tr>\n",
              "    <tr>\n",
              "      <th>1</th>\n",
              "      <td>salary</td>\n",
              "      <td>0.229</td>\n",
              "    </tr>\n",
              "    <tr>\n",
              "      <th>9</th>\n",
              "      <td>day</td>\n",
              "      <td>0.252</td>\n",
              "    </tr>\n",
              "    <tr>\n",
              "      <th>12</th>\n",
              "      <td>pdays</td>\n",
              "      <td>0.364</td>\n",
              "    </tr>\n",
              "    <tr>\n",
              "      <th>13</th>\n",
              "      <td>previous</td>\n",
              "      <td>0.467</td>\n",
              "    </tr>\n",
              "    <tr>\n",
              "      <th>4</th>\n",
              "      <td>default</td>\n",
              "      <td>0.591</td>\n",
              "    </tr>\n",
              "  </tbody>\n",
              "</table>\n",
              "</div>"
            ],
            "text/plain": [
              "       Column  pvalues\n",
              "6     housing    0.000\n",
              "7        loan    0.000\n",
              "10   duration    0.000\n",
              "11   campaign    0.000\n",
              "14   poutcome    0.000\n",
              "3   education    0.001\n",
              "5     balance    0.025\n",
              "8     contact    0.059\n",
              "2     marital    0.109\n",
              "0         age    0.121\n",
              "1      salary    0.229\n",
              "9         day    0.252\n",
              "12      pdays    0.364\n",
              "13   previous    0.467\n",
              "4     default    0.591"
            ]
          },
          "metadata": {
            "tags": []
          },
          "execution_count": 245
        }
      ]
    },
    {
      "cell_type": "code",
      "metadata": {
        "id": "bQOPqGuYvhEG",
        "colab_type": "code",
        "colab": {
          "base_uri": "https://localhost:8080/",
          "height": 34
        },
        "outputId": "46735bd4-c53a-4704-f27d-a2371b85f604"
      },
      "source": [
        "final_features = df_pvals.nlargest(8, 'pvalues')['Column'].to_list()\n",
        "final_features"
      ],
      "execution_count": 246,
      "outputs": [
        {
          "output_type": "execute_result",
          "data": {
            "text/plain": [
              "['default', 'previous', 'pdays', 'day', 'salary', 'age', 'marital', 'contact']"
            ]
          },
          "metadata": {
            "tags": []
          },
          "execution_count": 246
        }
      ]
    },
    {
      "cell_type": "markdown",
      "metadata": {
        "id": "UrcM3yQ34g4d",
        "colab_type": "text"
      },
      "source": [
        "## USing selected features"
      ]
    },
    {
      "cell_type": "code",
      "metadata": {
        "id": "MukICXBI1w-L",
        "colab_type": "code",
        "colab": {}
      },
      "source": [
        "clf.fit(X_train[final_features], y_train)\n",
        "y_pred3 = clf.predict(X_test[final_features])"
      ],
      "execution_count": 247,
      "outputs": []
    },
    {
      "cell_type": "code",
      "metadata": {
        "id": "w8MjFaDE3SB9",
        "colab_type": "code",
        "colab": {
          "base_uri": "https://localhost:8080/",
          "height": 476
        },
        "outputId": "4cf49fab-24ad-46e1-bd11-34662deb8c09"
      },
      "source": [
        "show_report(clf, y_pred3, y_test)"
      ],
      "execution_count": 248,
      "outputs": [
        {
          "output_type": "stream",
          "text": [
            "Accuracy:  0.7603271983640082\n",
            "================================\n",
            "Precision:  0.0\n",
            "================================\n",
            "Recall:  0.0\n",
            "================================\n",
            "\n",
            "Classification Report\n",
            "\n",
            "              precision    recall  f1-score   support\n",
            "\n",
            "           0       1.00      0.76      0.86      2443\n",
            "           1       0.00      0.00      0.00         2\n",
            "\n",
            "    accuracy                           0.76      2445\n",
            "   macro avg       0.50      0.38      0.43      2445\n",
            "weighted avg       1.00      0.76      0.86      2445\n",
            "\n",
            "================================\n",
            "\n",
            "confusion_matrix\n",
            "\n",
            "[[1859  584]\n",
            " [   2    0]]\n",
            "================================\n",
            "\n",
            "cross validation: [0.79509202 0.72331288 0.77852761 0.77361963 0.73173726]\n"
          ],
          "name": "stdout"
        }
      ]
    },
    {
      "cell_type": "code",
      "metadata": {
        "id": "p3H0mk0SBVAj",
        "colab_type": "code",
        "colab": {
          "base_uri": "https://localhost:8080/",
          "height": 34
        },
        "outputId": "426b8bf6-efc9-4c8b-c048-3165c4ad6772"
      },
      "source": [
        "from sklearn.feature_selection import SelectFromModel\n",
        "smf = SelectFromModel(clf)\n",
        "smf.fit(X_train,y_train)\n",
        "features = smf.get_support()\n",
        "feature_name = X_train.columns[features]\n",
        "feature_name"
      ],
      "execution_count": 249,
      "outputs": [
        {
          "output_type": "execute_result",
          "data": {
            "text/plain": [
              "Index(['housing', 'loan', 'contact', 'duration', 'poutcome'], dtype='object')"
            ]
          },
          "metadata": {
            "tags": []
          },
          "execution_count": 249
        }
      ]
    },
    {
      "cell_type": "markdown",
      "metadata": {
        "id": "-U6s_1f2Bm-H",
        "colab_type": "text"
      },
      "source": [
        "So these are the most imposrtant features"
      ]
    },
    {
      "cell_type": "markdown",
      "metadata": {
        "id": "jhZfAUKf45po",
        "colab_type": "text"
      },
      "source": [
        "## Predictive model 2: Random Forest"
      ]
    },
    {
      "cell_type": "markdown",
      "metadata": {
        "id": "CmQGeKdoFLaF",
        "colab_type": "text"
      },
      "source": [
        "Using all features"
      ]
    },
    {
      "cell_type": "code",
      "metadata": {
        "id": "UOzeNDPh3Zuj",
        "colab_type": "code",
        "colab": {
          "base_uri": "https://localhost:8080/"
        },
        "outputId": "ca223992-aaa9-47ae-f24e-9f3d26d4278e"
      },
      "source": [
        "from sklearn.ensemble import RandomForestClassifier\n",
        "clf2 = RandomForestClassifier(n_estimators=48,max_depth=5)\n",
        "clf2.fit(X_train,y_train)\n"
      ],
      "execution_count": 269,
      "outputs": [
        {
          "output_type": "execute_result",
          "data": {
            "text/plain": [
              "RandomForestClassifier(bootstrap=True, ccp_alpha=0.0, class_weight=None,\n",
              "                       criterion='gini', max_depth=5, max_features='auto',\n",
              "                       max_leaf_nodes=None, max_samples=None,\n",
              "                       min_impurity_decrease=0.0, min_impurity_split=None,\n",
              "                       min_samples_leaf=1, min_samples_split=2,\n",
              "                       min_weight_fraction_leaf=0.0, n_estimators=48,\n",
              "                       n_jobs=None, oob_score=False, random_state=None,\n",
              "                       verbose=0, warm_start=False)"
            ]
          },
          "metadata": {
            "tags": []
          },
          "execution_count": 269
        }
      ]
    },
    {
      "cell_type": "code",
      "metadata": {
        "id": "n-S_HReCChdd",
        "colab_type": "code",
        "colab": {}
      },
      "source": [
        "y_pred_rf = clf2.predict(X_test)"
      ],
      "execution_count": 270,
      "outputs": []
    },
    {
      "cell_type": "code",
      "metadata": {
        "id": "nM4vbkA7C7iZ",
        "colab_type": "code",
        "colab": {
          "base_uri": "https://localhost:8080/"
        },
        "outputId": "733f843f-b959-4abd-b07e-02f632550524"
      },
      "source": [
        "show_report(clf2, y_pred_rf, y_test)"
      ],
      "execution_count": 271,
      "outputs": [
        {
          "output_type": "stream",
          "text": [
            "Accuracy:  0.8347648261758691\n",
            "================================\n",
            "Precision:  0.4160958904109589\n",
            "================================\n",
            "Recall:  0.7941176470588235\n",
            "================================\n",
            "\n",
            "Classification Report\n",
            "\n",
            "              precision    recall  f1-score   support\n",
            "\n",
            "           0       0.97      0.84      0.90      2139\n",
            "           1       0.42      0.79      0.55       306\n",
            "\n",
            "    accuracy                           0.83      2445\n",
            "   macro avg       0.69      0.82      0.72      2445\n",
            "weighted avg       0.90      0.83      0.85      2445\n",
            "\n",
            "================================\n",
            "\n",
            "confusion_matrix\n",
            "\n",
            "[[1798  341]\n",
            " [  63  243]]\n",
            "================================\n",
            "\n",
            "cross validation: [0.7797546  0.82883436 0.84846626 0.86196319 0.59975445]\n"
          ],
          "name": "stdout"
        }
      ]
    },
    {
      "cell_type": "code",
      "metadata": {
        "id": "gRFuFx0uHXGU",
        "colab_type": "code",
        "colab": {
          "base_uri": "https://localhost:8080/",
          "height": 303
        },
        "outputId": "a31e7bd6-a793-45ad-b5f2-0ada786abb69"
      },
      "source": [
        "importances=clf2.feature_importances_\n",
        "feature_importances=pd.Series(importances, index=X_train.columns).sort_values(ascending=False)\n",
        "selected_features = feature_importances.index.to_list()[:5]\n",
        "print(selected_features)\n",
        "sns.barplot(x=feature_importances[0:10], y=feature_importances.index[0:10])\n",
        "plt.title('Feature Importance',size=20)\n",
        "plt.ylabel(\"Features\")\n",
        "plt.show()"
      ],
      "execution_count": 272,
      "outputs": [
        {
          "output_type": "stream",
          "text": [
            "['poutcome', 'duration', 'housing', 'pdays', 'month']\n"
          ],
          "name": "stdout"
        },
        {
          "output_type": "display_data",
          "data": {
            "image/png": "[encoded data removed]",
            "text/plain": [
              "<Figure size 432x288 with 1 Axes>"
            ]
          },
          "metadata": {
            "tags": [],
            "needs_background": "light"
          }
        }
      ]
    },
    {
      "cell_type": "markdown",
      "metadata": {
        "id": "mJnHhBM3FOno",
        "colab_type": "text"
      },
      "source": [
        "Using Selected Features"
      ]
    },
    {
      "cell_type": "code",
      "metadata": {
        "id": "YEfJGTpMDAaq",
        "colab_type": "code",
        "colab": {}
      },
      "source": [
        "clf2.fit(X_train[selected_features], y_train)\n",
        "y_pred_rf2 = clf2.predict(X_test[selected_features])"
      ],
      "execution_count": 275,
      "outputs": []
    },
    {
      "cell_type": "code",
      "metadata": {
        "id": "_V05XAa8Fcqd",
        "colab_type": "code",
        "colab": {
          "base_uri": "https://localhost:8080/",
          "height": 476
        },
        "outputId": "7fc09c4e-1f0c-45d2-8e75-23beaa0f55ec"
      },
      "source": [
        "show_report(clf2, y_pred_rf2, y_test)"
      ],
      "execution_count": 276,
      "outputs": [
        {
          "output_type": "stream",
          "text": [
            "Accuracy:  0.8441717791411043\n",
            "================================\n",
            "Precision:  0.5291095890410958\n",
            "================================\n",
            "Recall:  0.744578313253012\n",
            "================================\n",
            "\n",
            "Classification Report\n",
            "\n",
            "              precision    recall  f1-score   support\n",
            "\n",
            "           0       0.94      0.86      0.90      2030\n",
            "           1       0.53      0.74      0.62       415\n",
            "\n",
            "    accuracy                           0.84      2445\n",
            "   macro avg       0.74      0.80      0.76      2445\n",
            "weighted avg       0.87      0.84      0.85      2445\n",
            "\n",
            "================================\n",
            "\n",
            "confusion_matrix\n",
            "\n",
            "[[1755  275]\n",
            " [ 106  309]]\n",
            "================================\n",
            "\n",
            "cross validation: [0.78588957 0.84110429 0.85030675 0.86257669 0.59116022]\n"
          ],
          "name": "stdout"
        }
      ]
    },
    {
      "cell_type": "markdown",
      "metadata": {
        "id": "bbW9x_nEH5Bq",
        "colab_type": "text"
      },
      "source": [
        "## Compare the performance of the Random Forest and the logistic model"
      ]
    },
    {
      "cell_type": "code",
      "metadata": {
        "id": "QjL3bcWPH-p9",
        "colab_type": "code",
        "colab": {
          "base_uri": "https://localhost:8080/",
          "height": 1000
        },
        "outputId": "4fdcc6ee-665a-4975-d021-e60eb40ef40b"
      },
      "source": [
        "print('Logistic Regression\\n')\n",
        "show_report(clf , y_pred, y_test)\n",
        "print('\\n')\n",
        "print('='*100)\n",
        "print('='*100)\n",
        "print('\\nRandom Forest Classifier\\n')\n",
        "show_report(clf2, y_pred_rf2, y_test)"
      ],
      "execution_count": 277,
      "outputs": [
        {
          "output_type": "stream",
          "text": [
            "Logistic Regression\n",
            "\n",
            "Accuracy:  0.8253578732106339\n",
            "================================\n",
            "Precision:  0.5051369863013698\n",
            "================================\n",
            "Recall:  0.6812933025404158\n",
            "================================\n",
            "\n",
            "Classification Report\n",
            "\n",
            "              precision    recall  f1-score   support\n",
            "\n",
            "           0       0.93      0.86      0.89      2012\n",
            "           1       0.51      0.68      0.58       433\n",
            "\n",
            "    accuracy                           0.83      2445\n",
            "   macro avg       0.72      0.77      0.73      2445\n",
            "weighted avg       0.85      0.83      0.83      2445\n",
            "\n",
            "================================\n",
            "\n",
            "confusion_matrix\n",
            "\n",
            "[[1723  289]\n",
            " [ 138  295]]\n",
            "================================\n",
            "\n",
            "cross validation: [0.79509202 0.72331288 0.77852761 0.77361963 0.73173726]\n",
            "\n",
            "\n",
            "====================================================================================================\n",
            "====================================================================================================\n",
            "\n",
            "Random Forest Classifier\n",
            "\n",
            "Accuracy:  0.8441717791411043\n",
            "================================\n",
            "Precision:  0.5291095890410958\n",
            "================================\n",
            "Recall:  0.744578313253012\n",
            "================================\n",
            "\n",
            "Classification Report\n",
            "\n",
            "              precision    recall  f1-score   support\n",
            "\n",
            "           0       0.94      0.86      0.90      2030\n",
            "           1       0.53      0.74      0.62       415\n",
            "\n",
            "    accuracy                           0.84      2445\n",
            "   macro avg       0.74      0.80      0.76      2445\n",
            "weighted avg       0.87      0.84      0.85      2445\n",
            "\n",
            "================================\n",
            "\n",
            "confusion_matrix\n",
            "\n",
            "[[1755  275]\n",
            " [ 106  309]]\n",
            "================================\n",
            "\n",
            "cross validation: [0.7803681  0.81595092 0.85092025 0.86503067 0.57704113]\n"
          ],
          "name": "stdout"
        }
      ]
    },
    {
      "cell_type": "markdown",
      "metadata": {
        "id": "kcWv-0VMJLL6",
        "colab_type": "text"
      },
      "source": [
        "So Random Forest has less number of false negatives and slightly better accuracy."
      ]
    }
  ]
}